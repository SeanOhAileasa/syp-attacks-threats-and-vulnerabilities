{
 "cells": [
  {
   "cell_type": "markdown",
   "id": "d4ee9e4b",
   "metadata": {},
   "source": [
    "***\n",
    "< [Home](https://github.com/SeanOhAileasa) | [README](https://github.com/SeanOhAileasa/syp-attacks-threats-and-vulnerabilities/blob/main/README.md) >\n",
    "\n",
    "## CompTIA Security+ - Course Material 2022\n",
    "###### Topic: ``Threat Research``\n",
    "***"
   ]
  },
  {
   "cell_type": "markdown",
   "id": "b82b07fb",
   "metadata": {},
   "source": [
    "Course material for the ``CompTIA Security+`` module of the ``ICT Associate Apprenticeship (Cybersecurity)`` programme."
   ]
  },
  {
   "cell_type": "markdown",
   "id": "e7228f57",
   "metadata": {},
   "source": [
    "<a id=\"top\"></a>\n",
    "***\n",
    "## Table of Contents\n",
    "***"
   ]
  },
  {
   "cell_type": "markdown",
   "id": "c2bb5e7b",
   "metadata": {},
   "source": [
    "### [Threat Research](#a) <br/><br/>\n",
    "\n",
    "- [Vendor Website](#b) <br/><br/>\n",
    "- [Vulnerability Feeds](#c) <br/><br/>\n",
    "- [Conferences](#d) <br/><br/>\n",
    "- [Academic Journals](#e) <br/><br/>\n",
    "- [Request for Comment](#f) <br/><br/>\n",
    "    - [``RFC``](#f) <br/><br/>\n",
    "- [Local Industry Groups](#g) <br/><br/>\n",
    "- [Social Media](#h) <br/><br/>\n",
    "- [Threat Feeds](#i) <br/><br/>\n",
    "- [Tactics Techniques and Procedures](#j) <br/><br/>\n",
    "    - [``TTP``](#j) \n",
    "<hr width=50%;>"
   ]
  },
  {
   "cell_type": "markdown",
   "id": "bf2b95e2",
   "metadata": {},
   "source": [
    "***\n",
    "## END"
   ]
  },
  {
   "cell_type": "markdown",
   "id": "34aa6eb5",
   "metadata": {},
   "source": [
    "< [Table of Contents](#top) | [References](#references) >\n",
    "<a id=\"a\"></a>\n",
    "***\n",
    "### Threat Research\n",
    "***"
   ]
  },
  {
   "cell_type": "markdown",
   "id": "6cb1dfc5",
   "metadata": {},
   "source": [
    "To be able to stop a threat you have to know the threat exists and as an IT professional, you will be doing a lot of research around these threats. \n",
    "\n",
    "The threats are changing all the time, the scope of the threats is different every time and although you may understand how an attacker gets into one network, it’ll be a completely different method they use for a different network. \n",
    "\n",
    "Also find yourself collecting research information from many different resources - every resource has a different emphasis and a different amount of information they can provide and you’re going to have to bring all of that information together to really understand these threats."
   ]
  },
  {
   "cell_type": "markdown",
   "id": "84b00380",
   "metadata": {},
   "source": [
    "< [Table of Contents](#top) | [References](#references) >\n",
    "<a id=\"b\"></a>\n",
    "***\n",
    "###### Vendor Website\n",
    "***"
   ]
  },
  {
   "cell_type": "markdown",
   "id": "13777836",
   "metadata": {},
   "source": [
    "If interested in knowing the threats associated with an operating system or an application, you should start with the companies that wrote the operating system or the application - those vendors know their products better than anyone else and they’re also often the first one to know about vulnerabilities - there’s usually a page on a vendor’s website where they keep track of all of the known vulnerabilities and usually there’s some type of notification process so they can inform you immediately when a new vulnerability is discovered."
   ]
  },
  {
   "cell_type": "markdown",
   "id": "b4da2efe",
   "metadata": {},
   "source": [
    "< [Table of Contents](#top) | [References](#references) >\n",
    "<a id=\"c\"></a>\n",
    "***\n",
    "###### Vulnerability Feeds\n",
    "***"
   ]
  },
  {
   "cell_type": "markdown",
   "id": "ba484b5b",
   "metadata": {},
   "source": [
    "The National Institute of Standards and Technology maintains a comprehensive database of vulnerabilities - this is the National Vulnerability Database and it keeps within that database a list of CVEs or Common Vulnerabilities and Exposures. It’s common to supplement this database with third party feeds from other organizations - might roll up all of those vulnerability feeds into one central vulnerability management system - this allows you to keep track of all the latest vulnerabilities, identify vulnerabilities that may be specific to your environment and have some method to be able to be informed immediately when a vulnerability is disclosed."
   ]
  },
  {
   "cell_type": "markdown",
   "id": "7b10c3a2",
   "metadata": {},
   "source": [
    "< [Table of Contents](#top) | [References](#references) >\n",
    "<a id=\"d\"></a>\n",
    "***\n",
    "###### Conferences\n",
    "***"
   ]
  },
  {
   "cell_type": "markdown",
   "id": "f55a3f38",
   "metadata": {},
   "source": [
    "Another good source of information comes from conferences - this is a place you can go to learn the latest of vulnerabilities and threats that could be affecting you - there are usually researchers that will present information at these conferences that can help explain things that they found that are new, trends that may be occurring in the industry or information about the latest hacks. \n",
    "\n",
    "This is also a good place where you can learn from people who’ve gone through these attacks. Very often there’s some lessons that can be taken away and their stories can help give you ideas of how to protect your network even better. \n",
    "\n",
    "Since this is a grouping of people who have similar goals, it’s a great opportunity to forge some professional relationships and have people you can talk to after the conference is over."
   ]
  },
  {
   "cell_type": "markdown",
   "id": "1ce9ff85",
   "metadata": {},
   "source": [
    "< [Table of Contents](#top) | [References](#references) >\n",
    "<a id=\"e\"></a>\n",
    "***\n",
    "###### Academic Journals\n",
    "***"
   ]
  },
  {
   "cell_type": "markdown",
   "id": "0aab0ff1",
   "metadata": {},
   "source": [
    "If you want to get detailed information about attack types and how people have had to deal with them, then you want to reference some academic journals - these are usually periodicals or online resources that are written by industry experts - they usually provide information about existing security technologies and evaluate which types of security technologies may be better than others - these are also great resources to learn detailed information about the technology.\n",
    "\n",
    "It’s common to find a deep dive into a type of malware where it has been broken apart, decompiled, and you really understand exactly the way the malware operates.\n",
    "\n",
    "These journals are also great places to learn more about very specific aspects of the technologies you may be using today - if you want to learn more about the details behind the scenes, these academic journals will provide it."
   ]
  },
  {
   "cell_type": "markdown",
   "id": "d87809fd",
   "metadata": {},
   "source": [
    "< [Table of Contents](#top) | [References](#references) >\n",
    "<a id=\"f\"></a>\n",
    "***\n",
    "###### Request for Comment - RFC\n",
    "***"
   ]
  },
  {
   "cell_type": "markdown",
   "id": "5fb95a5c",
   "metadata": {},
   "source": [
    "Done any type of work in information technology, then you’ve probably heard the term RFC referred to a standard or a method of doing a particular task. \n",
    "\n",
    "RFCs are a way to track and formalize a set of standards that anyone on the internet can use and although many of these RFCs are standards documents, you’ll also find other types of documents such as Experimental, Best Current Practice, Standard Track, and Historic Documents.\n",
    "\n",
    "Some of these RFCs also provide a detailed analysis of certain types of threats, for example, ``RCF 3833`` is the threat analysis of the domain name system. \n",
    "\n",
    "By reading through these RFCs, you can not only understand how these standards are supposed to operate but you can understand some of the vulnerabilities that may exist within the standards themselves. "
   ]
  },
  {
   "cell_type": "markdown",
   "id": "1256d7bf",
   "metadata": {},
   "source": [
    "< [Table of Contents](#top) | [References](#references) >\n",
    "<a id=\"g\"></a>\n",
    "***\n",
    "###### Local Industry Groups\n",
    "***"
   ]
  },
  {
   "cell_type": "markdown",
   "id": "2a91c0be",
   "metadata": {},
   "source": [
    "Visit their local user group meetings because there is a wealth of information that you can gather not only from the people presenting at the user group but from the members of the user group as well. \n",
    "\n",
    "These are often local chapters where you can visit monthly or quarterly meetings to stay up to date on the latest news.\n",
    "\n",
    "You may also find valuable information at user groups that are not specific to IT security but still very much a technology organization such as a Cisco user group, Microsoft user group or others. Not only are you learning valuable technical information at these user groups, you’re meeting the local people in your area that you can use whenever you might need some type of resource. "
   ]
  },
  {
   "cell_type": "markdown",
   "id": "47707114",
   "metadata": {},
   "source": [
    "< [Table of Contents](#top) | [References](#references) >\n",
    "<a id=\"h\"></a>\n",
    "***\n",
    "###### Social Media\n",
    "***"
   ]
  },
  {
   "cell_type": "markdown",
   "id": "c114ba02",
   "metadata": {},
   "source": [
    "There is a wealth of security information on social media, for example, the large hacker groups will often put information on Twitter that will describe recent vulnerabilities they’ve discovered or recent attacks that they’ve completed. \n",
    "\n",
    "There’s also a number of resources on Twitter that can give you details about new vulnerabilities that are discovered or new attacks that may be occurring, for example, there’s some honeypot accounts on Twitter that will tell you when new exploits are being attempted against those honeypots.\n",
    "\n",
    "The search feature on Twitter can also be a valuable information gathering tool - can search for a particular CVE or look for the terms ``bugbounty`` or ``0-day`` to see what other people may be announcing or what they may be seeing on their network - this is also a good place to see other professionals having conversations about these threats and understanding more about ways to block these threats should it occur on your network.\n",
    "\n",
    "It’s not too unusual to see social media used as a method of command and control - may be able to monitor how certain malware is operating based on the posts that are being made to Twitter."
   ]
  },
  {
   "cell_type": "markdown",
   "id": "9adeceaf",
   "metadata": {},
   "source": [
    "< [Table of Contents](#top) | [References](#references) >\n",
    "<a id=\"i\"></a>\n",
    "***\n",
    "###### Threat Feeds\n",
    "***"
   ]
  },
  {
   "cell_type": "markdown",
   "id": "5b795911",
   "metadata": {},
   "source": [
    "Although it’s useful to do these ad hoc social media searches, it’s also important to be informed immediately when a threat is emerging. That’s why you should have some type of automated threat feed that’s going to give you information about the most important threats you need to know about - there are many different resources for these threat feeds, for example, the US Department of Homeland Security, the FBI, the SANS Internet Storm Center, VirusTotal Intelligence, and other feeds as well."
   ]
  },
  {
   "cell_type": "markdown",
   "id": "fd680b58",
   "metadata": {},
   "source": [
    "< [Table of Contents](#top) | [References](#references) >\n",
    "<a id=\"j\"></a>\n",
    "***\n",
    "###### Tactics Techniques and Procedures - ``TTP``\n",
    "***"
   ]
  },
  {
   "cell_type": "markdown",
   "id": "e73ef751",
   "metadata": {},
   "source": [
    "The information you’re often looking for is a ``TTP`` - this is a ``Tactic, Technique, and Procedure`` - this is understanding the methods that the attackers are using to get into your network and the process they’re going through once they get access. \n",
    "\n",
    "The more you understand the attacker’s TTP, the better you’re going to be at recognizing these tactics if they happen to appear on your network. \n",
    "\n",
    "Of course, one of the challenges with this is that the TTP will change depending on the situation, for example, an attacker might use a different tactic if it was a finance company versus a manufacturing company. \n",
    "\n",
    "It’s also good to know where an attacker likes to spend their time. If you know they spend a lot of effort trying to find vulnerabilities in DNS or an IP address vulnerability, then you can focus your defense in those areas or you may find that a particular type of malware has become very popular and you’re able to put the proper mitigations in place to prevent that malware from operating on your network."
   ]
  },
  {
   "cell_type": "markdown",
   "id": "2cc20932",
   "metadata": {},
   "source": [
    "***\n",
    "## END"
   ]
  },
  {
   "cell_type": "markdown",
   "id": "e0e42d51",
   "metadata": {},
   "source": [
    "< [Table of Contents](#top) >\n",
    "<a id=\"references\"></a>\n",
    "***\n",
    "## References\n",
    "***"
   ]
  },
  {
   "cell_type": "markdown",
   "id": "f8aaecbc",
   "metadata": {},
   "source": [
    "J. \"Professor\" Messer, \"CompTIA Security+ (SY0-601) Course Notes,\" [professormesser.com](https://web.archive.org/web/20220521181010/https://www.professormesser.com/security-plus/sy0-601/sy0-601-video/sy0-601-comptia-security-plus-course/), September 2021."
   ]
  },
  {
   "cell_type": "markdown",
   "id": "b33c372a",
   "metadata": {},
   "source": [
    "***\n",
    "## END"
   ]
  },
  {
   "cell_type": "markdown",
   "id": "e5961b4d",
   "metadata": {},
   "source": [
    "< [Table of Contents](#top) | [References](#references) >\n",
    "<a id=\"appendix\"></a>\n",
    "***\n",
    "## Appendix\n",
    "***"
   ]
  },
  {
   "cell_type": "markdown",
   "id": "00d82a82",
   "metadata": {},
   "source": [
    "***\n",
    "## END"
   ]
  },
  {
   "cell_type": "code",
   "execution_count": 1,
   "id": "706756a2",
   "metadata": {},
   "outputs": [
    {
     "data": {
      "text/html": [
       "<style>.container { width:100% !important; }</style>"
      ],
      "text/plain": [
       "<IPython.core.display.HTML object>"
      ]
     },
     "metadata": {},
     "output_type": "display_data"
    }
   ],
   "source": [
    "from IPython.core.display import display,HTML\n",
    "display(HTML(\"<style>.container { width:100% !important; }</style>\"))"
   ]
  },
  {
   "cell_type": "markdown",
   "id": "899c1783",
   "metadata": {},
   "source": [
    "# END JUPYTER NOTEBOOK"
   ]
  }
 ],
 "metadata": {
  "kernelspec": {
   "display_name": "Python 3",
   "language": "python",
   "name": "python3"
  },
  "language_info": {
   "codemirror_mode": {
    "name": "ipython",
    "version": 3
   },
   "file_extension": ".py",
   "mimetype": "text/x-python",
   "name": "python",
   "nbconvert_exporter": "python",
   "pygments_lexer": "ipython3",
   "version": "3.8.8"
  }
 },
 "nbformat": 4,
 "nbformat_minor": 5
}
