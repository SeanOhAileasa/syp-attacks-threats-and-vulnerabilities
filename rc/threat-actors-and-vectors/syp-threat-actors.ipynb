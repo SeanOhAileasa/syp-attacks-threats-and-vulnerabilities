{
 "cells": [
  {
   "cell_type": "markdown",
   "id": "d4ee9e4b",
   "metadata": {},
   "source": [
    "***\n",
    "< [Home](https://github.com/SeanOhAileasa) | [README](https://github.com/SeanOhAileasa/syp-attacks-threats-and-vulnerabilities/blob/main/README.md) >\n",
    "\n",
    "## CompTIA Security+ - Course Material 2022\n",
    "###### Topic: ``Threat Actors``\n",
    "***"
   ]
  },
  {
   "cell_type": "markdown",
   "id": "b82b07fb",
   "metadata": {},
   "source": [
    "Course material for the ``CompTIA Security+`` module of the ``ICT Associate Apprenticeship (Cybersecurity)`` programme."
   ]
  },
  {
   "cell_type": "markdown",
   "id": "e7228f57",
   "metadata": {},
   "source": [
    "<a id=\"top\"></a>\n",
    "***\n",
    "## Table of Contents\n",
    "***"
   ]
  },
  {
   "cell_type": "markdown",
   "id": "c2bb5e7b",
   "metadata": {},
   "source": [
    "### [Threat Actors](#a) <br/><br/>\n",
    "\n",
    "- [Advanced Persistent Threat](#b) <br/><br/>\n",
    "- [Insiders](#c) <br/><br/>\n",
    "- [Nation States](#d) <br/><br/>\n",
    "    - [Stuxnet Worm](#e) <br/><br/>\n",
    "- [Hacktivist](#f) <br/><br/>\n",
    "- [Script Kiddie](#g) <br/><br/>\n",
    "- [Organized Crime](#h) <br/><br/>\n",
    "- [Hacker](#i) <br/><br/>\n",
    "- [Shadow IT](#j) <br/><br/>\n",
    "- [Competitors](#k) \n",
    "<hr width=50%;>"
   ]
  },
  {
   "cell_type": "markdown",
   "id": "bf2b95e2",
   "metadata": {},
   "source": [
    "***\n",
    "## END"
   ]
  },
  {
   "cell_type": "markdown",
   "id": "34aa6eb5",
   "metadata": {},
   "source": [
    "< [Table of Contents](#top) | [References](#references) >\n",
    "<a id=\"a\"></a>\n",
    "***\n",
    "### Threat Actors\n",
    "***"
   ]
  },
  {
   "cell_type": "markdown",
   "id": "a6f133cf",
   "metadata": {},
   "source": [
    "The definition of a threat actor is an entity responsible for an event that has an impact on the safety of another entity, sometimes you’ll hear this referred to as a malicious actor - this is usually the entity that you’re trying to protect your network and your data from - this is the bad guy."
   ]
  },
  {
   "cell_type": "markdown",
   "id": "84b00380",
   "metadata": {},
   "source": [
    "< [Table of Contents](#top) | [References](#references) >\n",
    "<a id=\"b\"></a>\n",
    "***\n",
    "###### Advanced Persistent Threat - ``APT``\n",
    "***"
   ]
  },
  {
   "cell_type": "markdown",
   "id": "13195aca",
   "metadata": {},
   "source": [
    "There are many different categories of threat actors - will find that the threat actors are looking to implement an APT, that is an advanced persistent threat.\n",
    "\n",
    "It is a threat that’s able to get into your network because it is advanced. \n",
    "\n",
    "It’s persistent because once they get into your network, they are there until you take them out.\n",
    "\n",
    "Obviously, the threat part of this means that they are after something that’s on the inside of your network. \n",
    "\n",
    "What’s interesting about this is how long it takes to finally identify that one of these threat actors has infiltrated and is living inside of your network.\n",
    "\n",
    "In a report from FireEye in 2018, they showed the average is 71 days in North and South America for attackers to be in the network and undetected - this goes up to 177 days in Europe, the Middle East, and Africa and in Asia-Pacific, 204 days before anyone realizes that the attacker is now inside of the network."
   ]
  },
  {
   "cell_type": "markdown",
   "id": "b4da2efe",
   "metadata": {},
   "source": [
    "< [Table of Contents](#top) | [References](#references) >\n",
    "<a id=\"c\"></a>\n",
    "***\n",
    "###### Insiders\n",
    "***"
   ]
  },
  {
   "cell_type": "markdown",
   "id": "e8062498",
   "metadata": {},
   "source": [
    "Some of the most dangerous threat actors are the ones that are inside of your network already - these may be employers or contractors that work for your organization and these are the insiders that have a lot of control and a lot of reign over what they can do inside of your network. \n",
    "\n",
    "It’s unlikely that a threat actor who’s an insider is someone who works at being a hacker 24 hours a day, seven days a week - they probably have a different job that they’re doing inside of your organization, and therefore, the attacks they use may not be as sophisticated as perhaps a more advanced attacker.\n",
    "\n",
    "But the insider knows things that the hacker doesn’t - they know where your data center is located - they know how your network is designed - they understand the security tools that you already are using inside of your network, so they can direct their efforts towards the most vulnerable systems or the systems that they may have the most access to - this is a huge advantage that an insider has over someone who may be trying to get in from the outside.\n",
    "\n",
    "Because the insider is walking through the front door every day and connecting to your network, they have a huge number of resources available to try to find data and exfiltrate that information from your organization."
   ]
  },
  {
   "cell_type": "markdown",
   "id": "7b10c3a2",
   "metadata": {},
   "source": [
    "< [Table of Contents](#top) | [References](#references) >\n",
    "<a id=\"d\"></a>\n",
    "***\n",
    "###### Nation States\n",
    "***"
   ]
  },
  {
   "cell_type": "markdown",
   "id": "b5dcac75",
   "metadata": {},
   "source": [
    "A threat actor who is a nation state is usually a government - this is an organization, usually in charge of national security and it’s almost always an external government entity. \n",
    "\n",
    "Governments tend to have many resources available so they can hire the smartest technologists and gather the security experts in that particular area."
   ]
  },
  {
   "cell_type": "markdown",
   "id": "1ce9ff85",
   "metadata": {},
   "source": [
    "< [Table of Contents](#top) | [References](#references) >\n",
    "<a id=\"e\"></a>\n",
    "***\n",
    "###### Stuxnet Worm\n",
    "***"
   ]
  },
  {
   "cell_type": "markdown",
   "id": "9f3ead30",
   "metadata": {},
   "source": [
    "A good example of a nation state being a threat entity is the United States and Israel team together, to destroy about 1,000 nuclear centrifuges with a worm that was sent to Iran - this worm was able to get inside of these centrifuge facilities, and its entire goal was to connect to a very specific type of centrifuge and cause that centrifuge to work incorrectly. \n",
    "\n",
    "This is just one example of a government using an APT to gain access, and in some cases, destroy equipment that may be inside of another government facility."
   ]
  },
  {
   "cell_type": "markdown",
   "id": "d87809fd",
   "metadata": {},
   "source": [
    "< [Table of Contents](#top) | [References](#references) >\n",
    "<a id=\"f\"></a>\n",
    "***\n",
    "###### Hacktivist\n",
    "***"
   ]
  },
  {
   "cell_type": "markdown",
   "id": "6ff75cc1",
   "metadata": {},
   "source": [
    "A Hacktivist is a threat actor that is both a hacker and an activist - this is a hacker who has a purpose or goal in performing these threats or attacks against a third party - this is commonly associated with a political or social message, but it doesn’t have to be limited to those particular areas. \n",
    "\n",
    "These attacks can be very sophisticated, and they’re very focused on a single message or a single theme. It may be that the hacker is trying to perform a denial of service or deface a website or find private information that can then be released to the public - there’s not usually a financial gain to this hacktivism, so often the hacktivist has to go outside of the organization to try to raise funds to keep going."
   ]
  },
  {
   "cell_type": "markdown",
   "id": "1256d7bf",
   "metadata": {},
   "source": [
    "< [Table of Contents](#top) | [References](#references) >\n",
    "<a id=\"g\"></a>\n",
    "***\n",
    "###### Script Kiddie\n",
    "***"
   ]
  },
  {
   "cell_type": "markdown",
   "id": "6380b1f9",
   "metadata": {},
   "source": [
    "A Script Kiddie is a threat actor who may not necessarily be a kiddie, but they may be focused on running very simple scripts to be able to gain access to someone’s network. \n",
    "\n",
    "This script kiddie is usually someone who’s on the outside who’s trying to gain access to internal resources but they just don’t have the knowledge or experience to know exactly what to do to gain that access.\n",
    "\n",
    "We often call them a script kiddie, because what they’re doing is simply throwing a lot of different scripts and a lot of different attacks at a system and they’re hoping that one of them is going to find a way in - even though they don’t know exactly how these scripts work, they’re hoping that one of them is going to give them the access they need. \n",
    "\n",
    "This is also a threat actor who doesn’t necessarily have a financial gain as the result of this, so often there are limited resources for the script kiddie but they’re motivated by the process itself - they’re looking to brag that they gained access to someone’s network or they were able to exfiltrate some data."
   ]
  },
  {
   "cell_type": "markdown",
   "id": "47707114",
   "metadata": {},
   "source": [
    "< [Table of Contents](#top) | [References](#references) >\n",
    "<a id=\"h\"></a>\n",
    "***\n",
    "###### Organized Crime \n",
    "***"
   ]
  },
  {
   "cell_type": "markdown",
   "id": "d8fe929a",
   "metadata": {},
   "source": [
    "Organized crime is a threat actor that certainly transcends computers, but they certainly have made a name in information technology - this is a set of professional criminals - this is what they do for a living, and they are almost always motivated by a financial gain. \n",
    "\n",
    "Because there’s usually significant financial benefit to these types of hacks, there’s usually enough money to purchase the best hackers and this group may be structured just like any other business - there may be someone who’s hacking, another person managing the exploits that they use, another person selling the data that is gathered from all of these efforts, and someone else handling, for example, customer support. \n",
    "\n",
    "From the outside this may look like a normal company, but of course, this is a threat actor that has access to a lot of funds and a lot of resources to be able to keep these threats going."
   ]
  },
  {
   "cell_type": "markdown",
   "id": "9adeceaf",
   "metadata": {},
   "source": [
    "< [Table of Contents](#top) | [References](#references) >\n",
    "<a id=\"i\"></a>\n",
    "***\n",
    "###### Hacker\n",
    "***"
   ]
  },
  {
   "cell_type": "markdown",
   "id": "c0aa65c0",
   "metadata": {},
   "source": [
    "The term hacker has a very broad definition, but it usually refers to an expert with technology - this may be an expert who’s working for good, or it may be an expert who’s being malicious. \n",
    "\n",
    "There are many ethical hackers - these are people who are hired to look at a network try to gain access, find the weak points, and then help resolve those weak points to make the network even stronger - this is usually someone who has permission to perform these hacking functions because they’re going to help make the entire system much more secure.\n",
    "\n",
    "The other end of the spectrum is a hacker who is simply malicious - they’re looking to cause problems - they’re looking to gain access to your data, and they’re looking to cause the most amount of mayhem as possible. \n",
    "\n",
    "There are hackers that are in the middle of these two extremes - these are semi-authorized hackers who may be looking for vulnerabilities, but don’t necessarily act on those vulnerabilities - this is a hacker who is more of a researcher and trying to find access to someone’s network without necessarily taking advantage of that access."
   ]
  },
  {
   "cell_type": "markdown",
   "id": "fd680b58",
   "metadata": {},
   "source": [
    "< [Table of Contents](#top) | [References](#references) >\n",
    "<a id=\"j\"></a>\n",
    "***\n",
    "###### Shadow IT\n",
    "***"
   ]
  },
  {
   "cell_type": "markdown",
   "id": "abf02d6e",
   "metadata": {},
   "source": [
    "You may work in an organization that has an IT department, but you may not be part of that IT department and there may be times when you need to get something done with technology, but the IT department is not able to do that for you, so instead of going through the IT professionals at your organization, you would instead start creating your own separate IT entity - this would be the ``Shadow IT`` of your organization.\n",
    "\n",
    "This is a case where you’re performing your own IT functions without interacting with your internal information technology department. \n",
    "\n",
    "People who don’t work in IT often don’t understand some of the restrictions and the policies that are in place - they feel that those types of policies are roadblocks that restrict them from doing their job, so to work around these restrictions, they might create their own Cloud Infrastructure, they might purchase their own equipment but they’re doing this outside the purview of the IT processes and procedures.\n",
    "\n",
    "Although there may be some short-term benefits that would allow an organization to move very quickly without being encumbered, they are very often significant disadvantages for being a shadow IT group, for example, you’ve probably wasted time and money because IT department can do things usually faster and less expensive - there are also security risks associated with this and if you’re not an expert in IT security, you may be creating risks that you had no idea even existed - of course, there can be significant compliance issues and depending on your organization and where your organization might be, there might be some significant legal requirements - of course internal infighting creates dysfunction and that dysfunction usually costs money, efficiency, and time."
   ]
  },
  {
   "cell_type": "markdown",
   "id": "d438e44b",
   "metadata": {},
   "source": [
    "< [Table of Contents](#top) | [References](#references) >\n",
    "<a id=\"k\"></a>\n",
    "***\n",
    "###### Competitors\n",
    "***"
   ]
  },
  {
   "cell_type": "markdown",
   "id": "16ee376d",
   "metadata": {},
   "source": [
    "The competitors to your business would love to see you out of the market - they might be interested in causing a denial of service to your company - they might be performing espionage against you, or just making your reputation one that is tarnished or harmed in the industry. \n",
    "\n",
    "Since this type of threat actor can be a for-profit company, there are usually significant financial resources they can apply towards these types of threats and you can imagine the disruption that would occur if a competitor was to gain access to your network - they could shut down your organization while you’re having a big event, or maybe they steal all of your customers’ data - they could also corrupt the manufacturing process and prevent you from creating any new product or they might take all of your financial information and use that for their own purposes."
   ]
  },
  {
   "cell_type": "markdown",
   "id": "2cc20932",
   "metadata": {},
   "source": [
    "***\n",
    "## END"
   ]
  },
  {
   "cell_type": "markdown",
   "id": "e0e42d51",
   "metadata": {},
   "source": [
    "< [Table of Contents](#top) >\n",
    "<a id=\"references\"></a>\n",
    "***\n",
    "## References\n",
    "***"
   ]
  },
  {
   "cell_type": "markdown",
   "id": "f8aaecbc",
   "metadata": {},
   "source": [
    "J. \"Professor\" Messer, \"CompTIA Security+ (SY0-601) Course Notes,\" [professormesser.com](https://web.archive.org/web/20220521181010/https://www.professormesser.com/security-plus/sy0-601/sy0-601-video/sy0-601-comptia-security-plus-course/), September 2021."
   ]
  },
  {
   "cell_type": "markdown",
   "id": "b33c372a",
   "metadata": {},
   "source": [
    "***\n",
    "## END"
   ]
  },
  {
   "cell_type": "markdown",
   "id": "e5961b4d",
   "metadata": {},
   "source": [
    "< [Table of Contents](#top) | [References](#references) >\n",
    "<a id=\"appendix\"></a>\n",
    "***\n",
    "## Appendix\n",
    "***"
   ]
  },
  {
   "cell_type": "markdown",
   "id": "00d82a82",
   "metadata": {},
   "source": [
    "***\n",
    "## END"
   ]
  },
  {
   "cell_type": "code",
   "execution_count": 1,
   "id": "706756a2",
   "metadata": {},
   "outputs": [
    {
     "data": {
      "text/html": [
       "<style>.container { width:100% !important; }</style>"
      ],
      "text/plain": [
       "<IPython.core.display.HTML object>"
      ]
     },
     "metadata": {},
     "output_type": "display_data"
    }
   ],
   "source": [
    "from IPython.core.display import display,HTML\n",
    "display(HTML(\"<style>.container { width:100% !important; }</style>\"))"
   ]
  },
  {
   "cell_type": "markdown",
   "id": "899c1783",
   "metadata": {},
   "source": [
    "# END JUPYTER NOTEBOOK"
   ]
  }
 ],
 "metadata": {
  "kernelspec": {
   "display_name": "Python 3",
   "language": "python",
   "name": "python3"
  },
  "language_info": {
   "codemirror_mode": {
    "name": "ipython",
    "version": 3
   },
   "file_extension": ".py",
   "mimetype": "text/x-python",
   "name": "python",
   "nbconvert_exporter": "python",
   "pygments_lexer": "ipython3",
   "version": "3.8.8"
  }
 },
 "nbformat": 4,
 "nbformat_minor": 5
}
