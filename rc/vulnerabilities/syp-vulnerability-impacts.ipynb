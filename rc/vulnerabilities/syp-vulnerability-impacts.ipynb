{
 "cells": [
  {
   "cell_type": "markdown",
   "id": "d4ee9e4b",
   "metadata": {},
   "source": [
    "***\n",
    "< [Home](https://github.com/SeanOhAileasa) | [README](https://github.com/SeanOhAileasa/syp-attacks-threats-and-vulnerabilities/blob/main/README.md) >\n",
    "\n",
    "## CompTIA Security+ - Course Material 2022\n",
    "###### Topic: ``Vulnerability Impacts``\n",
    "***"
   ]
  },
  {
   "cell_type": "markdown",
   "id": "b82b07fb",
   "metadata": {},
   "source": [
    "Course material for the ``CompTIA Security+`` module of the ``ICT Associate Apprenticeship (Cybersecurity)`` programme."
   ]
  },
  {
   "cell_type": "markdown",
   "id": "e7228f57",
   "metadata": {},
   "source": [
    "<a id=\"top\"></a>\n",
    "***\n",
    "## Table of Contents\n",
    "***"
   ]
  },
  {
   "cell_type": "markdown",
   "id": "c2bb5e7b",
   "metadata": {},
   "source": [
    "### [Vulnerability Impacts](#a) <br/><br/>\n",
    "\n",
    "- [Data Loss](#b) <br/><br/>\n",
    "    - [July 2020 - Meow Attack](#c) <br/><br/>\n",
    "- [Identify Theft](#d) <br/><br/>\n",
    "    - [May - July 2017 - Equifax](#e) <br/><br/>\n",
    "        - [Vulnerability](#f) <br/><br/>\n",
    "            - [``Apache Struts``](#f) <br/><br/>\n",
    "    - [March 2016 - Bank of Bangladesh](#g) <br/><br/>\n",
    "        - [``SWIFT``](#g) <br/><br/>\n",
    "            - [Wells Fargo](#h) <br/><br/>\n",
    "            - [Taiwanese Far Eastern International Bank](#h) <br/><br/>\n",
    "- [Reputation Impacts](#i) <br/><br/>\n",
    "    - [October 2016 - Uber](#j) <br/><br/>\n",
    "- [Availability Loss](#k) <br/><br/>\n",
    "    - [September 2021 - Chile - Banco Estado](#l) <br/><br/>\n",
    "    - [May 2021 - HSE](#m) <br/><br/>\n",
    "        - [Lack of Network Segmentation](#m) <br/><br/>\n",
    "<hr width=50%;>"
   ]
  },
  {
   "cell_type": "markdown",
   "id": "bf2b95e2",
   "metadata": {},
   "source": [
    "***\n",
    "## END"
   ]
  },
  {
   "cell_type": "markdown",
   "id": "34aa6eb5",
   "metadata": {},
   "source": [
    "< [Table of Contents](#top) | [References](#references) >\n",
    "<a id=\"a\"></a>\n",
    "***\n",
    "### Vulnerability Impacts\n",
    "***"
   ]
  },
  {
   "cell_type": "markdown",
   "id": "c2ce6c93",
   "metadata": {},
   "source": [
    "In February of 2018, the United States Council of Economic Advisors produced a report called The Cost of Malicious Cyber Activity to the US economy and they found that the costs were between USD57 and USD109 billion in the year of 2016 - this is a significant financial issue, and one that we need to be concerned with regardless of our organization. \n",
    "\n",
    "Of course, the impacts of vulnerabilities are not just associated with finances, there are many other concerns - it is these costs and effects of vulnerabilities that drive us in security to make sure our systems are as safe as possible."
   ]
  },
  {
   "cell_type": "markdown",
   "id": "84b00380",
   "metadata": {},
   "source": [
    "< [Table of Contents](#top) | [References](#references) >\n",
    "<a id=\"b\"></a>\n",
    "***\n",
    "###### Data Loss\n",
    "***"
   ]
  },
  {
   "cell_type": "markdown",
   "id": "66cc3db5",
   "metadata": {},
   "source": [
    "One result of vulnerabilities may be the loss of data, and in some cases losing the data may be more damaging than losing money, for example, a database that has no password or is using default passwords can be at risk for losing the data within that database. "
   ]
  },
  {
   "cell_type": "markdown",
   "id": "b4da2efe",
   "metadata": {},
   "source": [
    "< [Table of Contents](#top) | [References](#references) >\n",
    "<a id=\"c\"></a>\n",
    "***\n",
    "###### July 2020 - Meow Attack\n",
    "***"
   ]
  },
  {
   "cell_type": "markdown",
   "id": "aeb3869f",
   "metadata": {},
   "source": [
    "An example of this data loss started in July 2020 with what the internet is calling the meow attack - this is databases that had no password or were using the default password, and all of the information in this database was being deleted without any type of warning.\n",
    "\n",
    "Researchers who were tracking this attack, say that thousands of databases has been deleted and instead of the data being in the database, all of that information has been replaced with the word, ``meow`` - this is an extreme example of what can happen if databases are not properly secured, and another reason why it’s very important to always have a backup."
   ]
  },
  {
   "cell_type": "markdown",
   "id": "7b10c3a2",
   "metadata": {},
   "source": [
    "< [Table of Contents](#top) | [References](#references) >\n",
    "<a id=\"d\"></a>\n",
    "***\n",
    "###### Identify Theft\n",
    "***"
   ]
  },
  {
   "cell_type": "markdown",
   "id": "62126042",
   "metadata": {},
   "source": [
    "Some attackers don’t delete the data, but instead prefer to steal the data and then use that data for their own purposes."
   ]
  },
  {
   "cell_type": "markdown",
   "id": "1ce9ff85",
   "metadata": {},
   "source": [
    "< [Table of Contents](#top) | [References](#references) >\n",
    "<a id=\"e\"></a>\n",
    "***\n",
    "###### May - July 2017 - Equifax\n",
    "***"
   ]
  },
  {
   "cell_type": "markdown",
   "id": "6aed0f33",
   "metadata": {},
   "source": [
    "A good example of this is the identity theft that occurred between May and July of 2017 at Equifax. Equifax stored information of over 147.9 million Americans, over 15 million British citizens, and over 19,000 Canadian citizens. \n",
    "\n",
    "The attackers were able to gain access to names, social security numbers, birth dates, address information, and more. With all of this information, they’re then able to steal people’s identities, open up new lines of credit, and create problems for all of the people affected by this theft."
   ]
  },
  {
   "cell_type": "markdown",
   "id": "d87809fd",
   "metadata": {},
   "source": [
    "< [Table of Contents](#top) | [References](#references) >\n",
    "<a id=\"f\"></a>\n",
    "***\n",
    "###### Vulnerability - ``Apache Struts``\n",
    "***"
   ]
  },
  {
   "cell_type": "markdown",
   "id": "e1740445",
   "metadata": {},
   "source": [
    "The vulnerability that allowed this particular identity theft, was a vulnerability in Apache Struts that was announced on March the 7th. Attackers took advantage of a system that was not patched, on March the 12th, got into the Equifax network, and were able to remove all of this data from their systems. \n",
    "\n",
    "This was such an extreme attack with such a large amount of data, that both the CIO and CIS were asked to leave the organization and ultimately Equifax paid over half a billion dollars in fines for this particular breach."
   ]
  },
  {
   "cell_type": "markdown",
   "id": "1256d7bf",
   "metadata": {},
   "source": [
    "< [Table of Contents](#top) | [References](#references) >\n",
    "<a id=\"g\"></a>\n",
    "***\n",
    "###### March 2016 - Bank of Bangladesh - ``SWIFT``\n",
    "***"
   ]
  },
  {
   "cell_type": "markdown",
   "id": "5618067a",
   "metadata": {},
   "source": [
    "These vulnerabilities can cause financial loss as well - this particular example is in March of 2016 at the Bank of Bangladesh, and this is around a vulnerability that took advantage of the Society for Worldwide Interbank Financial Telecommunications, or what the industry refers to as ``SWIFT``. \n",
    "\n",
    "Attackers sent messages over the SWIFT network to transfer nearly USD1 billion from accounts at the Bank of Bangladesh to accounts that are in the Philippines and Sri Lanka.\n",
    "\n",
    "Fortunately, for the Bank of Bangladesh, most of these requests were rejected because they were not formatted properly when they were sent - however 35 of the requests were processed and the bank lost USD81 million that got laundered through the Filipino Casino industry. "
   ]
  },
  {
   "cell_type": "markdown",
   "id": "47707114",
   "metadata": {},
   "source": [
    "< [Table of Contents](#top) | [References](#references) >\n",
    "<a id=\"h\"></a>\n",
    "***\n",
    "###### Wells Fargo - Taiwanese Far Eastern International Bank\n",
    "***"
   ]
  },
  {
   "cell_type": "markdown",
   "id": "f90b6d2c",
   "metadata": {},
   "source": [
    "This is not the first time that this particular type of vulnerability resulted in financial loss. A similar swift vulnerability has taken USD12 million from Wells Fargo, and USD60 million from the Taiwanese Far Eastern International Bank."
   ]
  },
  {
   "cell_type": "markdown",
   "id": "9adeceaf",
   "metadata": {},
   "source": [
    "< [Table of Contents](#top) | [References](#references) >\n",
    "<a id=\"i\"></a>\n",
    "***\n",
    "###### Reputation Impacts\n",
    "***"
   ]
  },
  {
   "cell_type": "markdown",
   "id": "604fa043",
   "metadata": {},
   "source": [
    "Getting hacked is not very good for public relations, and it can make your organization have an impact to its reputation. \n",
    "\n",
    "In many countries there’s laws that require an organization to disclose the results of a hack and in some cases, especially with public companies, that can have an effect on the company’s value, especially in the stock market."
   ]
  },
  {
   "cell_type": "markdown",
   "id": "fd680b58",
   "metadata": {},
   "source": [
    "< [Table of Contents](#top) | [References](#references) >\n",
    "<a id=\"j\"></a>\n",
    "***\n",
    "###### October 2016 - Uber\n",
    "***"
   ]
  },
  {
   "cell_type": "markdown",
   "id": "e317f0c7",
   "metadata": {},
   "source": [
    "An example of one of these reputation impacts occurred in October of 2016 with the company Uber - this particular breach allowed attackers to gain access to 25.6 million customer names, email addresses, and mobile phone numbers. \n",
    "\n",
    "Instead of disclosing this breach, Uber instead decided to have the hacker sign a non-disclosure agreement and gave them USD100,000 to not say anything. Ultimately, the pressure regarding this breach required Uber to announce the hack in November of 2017, and in 2018 they paid USD148 million in fines.\n",
    "\n",
    "The hackers associated with this breach pleaded guilty in October of 2019 and to continue the reputation impact to Uber, Uber’s former Chief Security Officer was charged with obstruction of justice, and misprision of a felony."
   ]
  },
  {
   "cell_type": "markdown",
   "id": "d438e44b",
   "metadata": {},
   "source": [
    "< [Table of Contents](#top) | [References](#references) >\n",
    "<a id=\"k\"></a>\n",
    "***\n",
    "###### Availability Loss\n",
    "***"
   ]
  },
  {
   "cell_type": "markdown",
   "id": "9053bf6b",
   "metadata": {},
   "source": [
    "If you don’t lose any data and you don’t lose any money, you could still lose uptime and availability, someone taking advantage of a vulnerability could cause outages, downtime, and cause a system to become unavailable. "
   ]
  },
  {
   "cell_type": "markdown",
   "id": "35536700",
   "metadata": {},
   "source": [
    "< [Table of Contents](#top) | [References](#references) >\n",
    "<a id=\"l\"></a>\n",
    "***\n",
    "###### September 2021 - Chile - Banco Estado\n",
    "***"
   ]
  },
  {
   "cell_type": "markdown",
   "id": "a877acc0",
   "metadata": {},
   "source": [
    "A good example of this are the outbreaks of ransomware that we’re seeing that are bringing down some of the world’s largest networks - for example, in September of 2021 of Chile’s largest banks Banco Estado was attacked with ransomware that took out all of their internal systems. \n",
    "\n",
    "The bank was effectively out of business internally, and were not able to process anything on their internal network. \n",
    "\n",
    "Fortunately, their network was segmented and the public facing services were still up and running.\n",
    "\n",
    "The bank had to delete everything that was on these internal systems, restore from known good backups, and that process caused the bank to be out of business for an extended period."
   ]
  },
  {
   "cell_type": "markdown",
   "id": "1677d2ce",
   "metadata": {},
   "source": [
    "< [Table of Contents](#top) | [References](#references) >\n",
    "<a id=\"m\"></a>\n",
    "***\n",
    "###### May 2021 - HSE - Lack of Network Segmentation\n",
    "***"
   ]
  },
  {
   "cell_type": "markdown",
   "id": "ebe3ac2d",
   "metadata": {},
   "source": [
    "[ [PWC](https://nbviewer.org/github/SeanOhAileasa/hse-cyber-attack/blob/main/hse-cyber-attack.ipynb) ]"
   ]
  },
  {
   "cell_type": "markdown",
   "id": "2cc20932",
   "metadata": {},
   "source": [
    "***\n",
    "## END"
   ]
  },
  {
   "cell_type": "markdown",
   "id": "e0e42d51",
   "metadata": {},
   "source": [
    "< [Table of Contents](#top) >\n",
    "<a id=\"references\"></a>\n",
    "***\n",
    "## References\n",
    "***"
   ]
  },
  {
   "cell_type": "markdown",
   "id": "f8aaecbc",
   "metadata": {},
   "source": [
    "J. \"Professor\" Messer, \"CompTIA Security+ (SY0-601) Course Notes,\" [professormesser.com](https://web.archive.org/web/20220521181010/https://www.professormesser.com/security-plus/sy0-601/sy0-601-video/sy0-601-comptia-security-plus-course/), September 2021."
   ]
  },
  {
   "cell_type": "markdown",
   "id": "b33c372a",
   "metadata": {},
   "source": [
    "***\n",
    "## END"
   ]
  },
  {
   "cell_type": "markdown",
   "id": "e5961b4d",
   "metadata": {},
   "source": [
    "< [Table of Contents](#top) | [References](#references) >\n",
    "<a id=\"appendix\"></a>\n",
    "***\n",
    "## Appendix\n",
    "***"
   ]
  },
  {
   "cell_type": "markdown",
   "id": "00d82a82",
   "metadata": {},
   "source": [
    "***\n",
    "## END"
   ]
  },
  {
   "cell_type": "code",
   "execution_count": 1,
   "id": "706756a2",
   "metadata": {},
   "outputs": [
    {
     "data": {
      "text/html": [
       "<style>.container { width:100% !important; }</style>"
      ],
      "text/plain": [
       "<IPython.core.display.HTML object>"
      ]
     },
     "metadata": {},
     "output_type": "display_data"
    }
   ],
   "source": [
    "from IPython.core.display import display,HTML\n",
    "display(HTML(\"<style>.container { width:100% !important; }</style>\"))"
   ]
  },
  {
   "cell_type": "markdown",
   "id": "899c1783",
   "metadata": {},
   "source": [
    "# END JUPYTER NOTEBOOK"
   ]
  }
 ],
 "metadata": {
  "kernelspec": {
   "display_name": "Python 3",
   "language": "python",
   "name": "python3"
  },
  "language_info": {
   "codemirror_mode": {
    "name": "ipython",
    "version": 3
   },
   "file_extension": ".py",
   "mimetype": "text/x-python",
   "name": "python",
   "nbconvert_exporter": "python",
   "pygments_lexer": "ipython3",
   "version": "3.8.8"
  }
 },
 "nbformat": 4,
 "nbformat_minor": 5
}
