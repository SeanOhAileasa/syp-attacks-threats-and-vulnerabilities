{
 "cells": [
  {
   "cell_type": "markdown",
   "id": "d4ee9e4b",
   "metadata": {},
   "source": [
    "***\n",
    "< [Home](https://github.com/SeanOhAileasa) | [README](https://github.com/SeanOhAileasa/syp-attacks-threats-and-vulnerabilities/blob/main/README.md) >\n",
    "\n",
    "## CompTIA Security+ - Course Material 2022\n",
    "###### Topic: ``Privilege Escalation``\n",
    "***"
   ]
  },
  {
   "cell_type": "markdown",
   "id": "b82b07fb",
   "metadata": {},
   "source": [
    "Course material for the ``CompTIA Security+`` module of the ``ICT Associate Apprenticeship (Cybersecurity)`` programme."
   ]
  },
  {
   "cell_type": "markdown",
   "id": "e7228f57",
   "metadata": {},
   "source": [
    "<a id=\"top\"></a>\n",
    "***\n",
    "## Table of Contents\n",
    "***"
   ]
  },
  {
   "cell_type": "markdown",
   "id": "c2bb5e7b",
   "metadata": {},
   "source": [
    "### [Privilege Escalation](#a) <br/><br/>\n",
    "\n",
    "- [Mitigation](#b) <br/><br/>\n",
    "- [Windows Remote Access Elevation of Privileged Vulnerability](#c) <br/><br/>\n",
    "    - [``CVE-2020-1530``](#c) <br/><br/>\n",
    "        - [Windows Remote Access](#c) \n",
    "<hr width=50%;>"
   ]
  },
  {
   "cell_type": "markdown",
   "id": "bf2b95e2",
   "metadata": {},
   "source": [
    "***\n",
    "## END"
   ]
  },
  {
   "cell_type": "markdown",
   "id": "34aa6eb5",
   "metadata": {},
   "source": [
    "< [Table of Contents](#top) | [References](#references) >\n",
    "<a id=\"a\"></a>\n",
    "***\n",
    "### Privilege Escalation\n",
    "***"
   ]
  },
  {
   "cell_type": "markdown",
   "id": "6e0fb071",
   "metadata": {},
   "source": [
    "We often worry about an attacker getting administrative login rights or some type of root log in to gain full access to a system, but often the attacker is using a normal users log in to somehow gain elevated rights on the system. \n",
    "\n",
    "This is often done through a privilege escalation where a vulnerability or some type of design flaw is allowing a normal user to suddenly gain extended capabilities on that system. \n",
    "\n",
    "Very often this higher level access is the administrative or the root account. That’s why it’s so important to patch and make sure there are no vulnerabilities on a system that would allow simply any user logging in to gain full access of the operating system.\n",
    "\n",
    "We often think of privilege escalation as a higher level account, but in some cases it’s a horizontal privilege escalation - this is where one user is able to gain access to resources that would normally only be available to another user of the same level. It doesn’t have to be an administrator account or a root account - simply user A is gaining access to files and resources for user B."
   ]
  },
  {
   "cell_type": "markdown",
   "id": "84b00380",
   "metadata": {},
   "source": [
    "< [Table of Contents](#top) | [References](#references) >\n",
    "<a id=\"b\"></a>\n",
    "***\n",
    "###### Mitigation\n",
    "***"
   ]
  },
  {
   "cell_type": "markdown",
   "id": "413e79b6",
   "metadata": {},
   "source": [
    "Privilege escalation vulnerabilities usually have a higher priority associated with them, so it’s very important that we patch these vulnerabilities quickly. \n",
    "\n",
    "It’s very common for our antivirus and anti-malware software to also be aware of these vulnerabilities and stop any malicious software that may try to take advantage of them. \n",
    "\n",
    "The operating system itself may have safeguards in place to prevent someone from taking advantage of a privileged escalation - one of these safeguards is called data execution prevention it’s a way to only allow applications to run in certain areas of memory where that particular function is allowed. Vulnerabilities that try to run an application from the data section of memory would be blocked using data execution prevention.\n",
    "\n",
    "Many operating systems will randomize where information is stored in memory so that if attacker finds a way to take advantage of a memory address on one system, they would not be able to duplicate that on another operating system."
   ]
  },
  {
   "cell_type": "markdown",
   "id": "b4da2efe",
   "metadata": {},
   "source": [
    "< [Table of Contents](#top) | [References](#references) >\n",
    "<a id=\"c\"></a>\n",
    "***\n",
    "###### Windows Remote Access Elevation of Privileged Vulnerability - ``CVE-2020-1530``\n",
    "***"
   ]
  },
  {
   "cell_type": "markdown",
   "id": "30f5de22",
   "metadata": {},
   "source": [
    "A practical example of a privileged escalation - [ [``CVE-2020-1530``](https://cve.mitre.org/cgi-bin/cvename.cgi?name=CVE-2020-1530) ] - titled the ``Windows Remote Access Elevation of Privileged Vulnerability`` was released on August of 2020. \n",
    "\n",
    "This is specific to Microsoft Windows and the ``Windows Remote Access`` application, which runs on server 2008, 2012, 2016, 2019, Windows 7, Windows 8.1, and Windows 10.\n",
    "\n",
    "Can see that this particular vulnerability is one that affects many different operating systems going back a number of years. \n",
    "\n",
    "If the victim’s machine had this remote access vulnerability, the attacker would only need to run a single program and they would have elevated access on that system. \n",
    "\n",
    "With a vulnerability that has this scope associated with it, you can see why it’s so important to always make sure you’re up to date that you have the latest security patches on your operating system."
   ]
  },
  {
   "cell_type": "markdown",
   "id": "2cc20932",
   "metadata": {},
   "source": [
    "***\n",
    "## END"
   ]
  },
  {
   "cell_type": "markdown",
   "id": "e0e42d51",
   "metadata": {},
   "source": [
    "< [Table of Contents](#top) >\n",
    "<a id=\"references\"></a>\n",
    "***\n",
    "## References\n",
    "***"
   ]
  },
  {
   "cell_type": "markdown",
   "id": "f8aaecbc",
   "metadata": {},
   "source": [
    "J. \"Professor\" Messer, \"CompTIA Security+ (SY0-601) Course Notes,\" [professormesser.com](https://web.archive.org/web/20220521181010/https://www.professormesser.com/security-plus/sy0-601/sy0-601-video/sy0-601-comptia-security-plus-course/), September 2021."
   ]
  },
  {
   "cell_type": "markdown",
   "id": "b33c372a",
   "metadata": {},
   "source": [
    "***\n",
    "## END"
   ]
  },
  {
   "cell_type": "markdown",
   "id": "e5961b4d",
   "metadata": {},
   "source": [
    "< [Table of Contents](#top) | [References](#references) >\n",
    "<a id=\"appendix\"></a>\n",
    "***\n",
    "## Appendix\n",
    "***"
   ]
  },
  {
   "cell_type": "markdown",
   "id": "00d82a82",
   "metadata": {},
   "source": [
    "***\n",
    "## END"
   ]
  },
  {
   "cell_type": "code",
   "execution_count": 1,
   "id": "706756a2",
   "metadata": {},
   "outputs": [
    {
     "data": {
      "text/html": [
       "<style>.container { width:100% !important; }</style>"
      ],
      "text/plain": [
       "<IPython.core.display.HTML object>"
      ]
     },
     "metadata": {},
     "output_type": "display_data"
    }
   ],
   "source": [
    "from IPython.core.display import display,HTML\n",
    "display(HTML(\"<style>.container { width:100% !important; }</style>\"))"
   ]
  },
  {
   "cell_type": "markdown",
   "id": "899c1783",
   "metadata": {},
   "source": [
    "# END JUPYTER NOTEBOOK"
   ]
  }
 ],
 "metadata": {
  "kernelspec": {
   "display_name": "Python 3",
   "language": "python",
   "name": "python3"
  },
  "language_info": {
   "codemirror_mode": {
    "name": "ipython",
    "version": 3
   },
   "file_extension": ".py",
   "mimetype": "text/x-python",
   "name": "python",
   "nbconvert_exporter": "python",
   "pygments_lexer": "ipython3",
   "version": "3.8.8"
  }
 },
 "nbformat": 4,
 "nbformat_minor": 5
}
