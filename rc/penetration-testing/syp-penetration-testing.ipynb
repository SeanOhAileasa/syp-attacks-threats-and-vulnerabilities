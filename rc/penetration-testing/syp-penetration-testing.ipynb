{
 "cells": [
  {
   "cell_type": "markdown",
   "id": "d4ee9e4b",
   "metadata": {},
   "source": [
    "***\n",
    "< [Home](https://github.com/SeanOhAileasa) | [README](https://github.com/SeanOhAileasa/syp-attacks-threats-and-vulnerabilities/blob/main/README.md) >\n",
    "\n",
    "## CompTIA Security+ - Course Material 2022\n",
    "###### Topic: ``Penetration Testing``\n",
    "***"
   ]
  },
  {
   "cell_type": "markdown",
   "id": "b82b07fb",
   "metadata": {},
   "source": [
    "Course material for the ``CompTIA Security+`` module of the ``ICT Associate Apprenticeship (Cybersecurity)`` programme."
   ]
  },
  {
   "cell_type": "markdown",
   "id": "e7228f57",
   "metadata": {},
   "source": [
    "<a id=\"top\"></a>\n",
    "***\n",
    "## Table of Contents\n",
    "***"
   ]
  },
  {
   "cell_type": "markdown",
   "id": "c2bb5e7b",
   "metadata": {},
   "source": [
    "### [Penetration Testing](#a) <br/><br/>\n",
    "\n",
    "- ``NIST`` [ [``Technical Guide to Information Security Testing and Assessment``](https://nvlpubs.nist.gov/nistpubs/Legacy/SP/nistspecialpublication800-115.pdf) ] <br/><br/>\n",
    "- [Rules of Engagement](#b) <br/><br/>\n",
    "- [Working Knowledge](#c) <br/><br/>\n",
    "- [Exploiting Vulnerabilities](#d) <br/><br/>\n",
    "    - [Process](#e) <br/><br/>\n",
    "        - [Lateral Movement](#e) <br/><br/>\n",
    "        - [Persistence](#f) <br/><br/>\n",
    "        - [Privot](#g) <br/><br/>\n",
    "    - [Cleanup](#h) <br/><br/>\n",
    "- [Bug Bounty](#i) \n",
    "<hr width=50%;>"
   ]
  },
  {
   "cell_type": "markdown",
   "id": "bf2b95e2",
   "metadata": {},
   "source": [
    "***\n",
    "## END"
   ]
  },
  {
   "cell_type": "markdown",
   "id": "34aa6eb5",
   "metadata": {},
   "source": [
    "< [Table of Contents](#top) | [References](#references) >\n",
    "<a id=\"a\"></a>\n",
    "***\n",
    "### Penetration Testing\n",
    "***"
   ]
  },
  {
   "cell_type": "markdown",
   "id": "d7d3d849",
   "metadata": {},
   "source": [
    "If you’re performing a penetration test, then you are actively trying to gain access to a system - this is simulating the same type of exploits and attacks that would be done by an attacker that is external to your organization.\n",
    "\n",
    "This is similar to the process you go through with vulnerability scanning, but you’re taking it one step further. You’re actually trying to exploit the vulnerabilities you find, to see if you can gain access to these systems.\n",
    "\n",
    "This is often a process that is mandated. You have to do this by some type of set of rules or regulations, and you’ll usually contract with a third party that will perform these penetration tests on a regular schedule."
   ]
  },
  {
   "cell_type": "markdown",
   "id": "ceb28887",
   "metadata": {},
   "source": [
    "< [Table of Contents](#top) | [References](#references) >\n",
    "<a id=\"b\"></a>\n",
    "***\n",
    "###### ``NIST`` [ [``Technical Guide to Information Security Testing and Assessment``](https://nvlpubs.nist.gov/nistpubs/Legacy/SP/nistspecialpublication800-115.pdf) ]\n",
    "***"
   ]
  },
  {
   "cell_type": "markdown",
   "id": "3f6e5671",
   "metadata": {},
   "source": [
    "A great document to view some of the information that can help you design, and plan for these penetration tests, is from ``NIST`` [ [``Technical Guide to Information Security Testing and Assessment``](https://nvlpubs.nist.gov/nistpubs/Legacy/SP/nistspecialpublication800-115.pdf) ]."
   ]
  },
  {
   "cell_type": "markdown",
   "id": "84b00380",
   "metadata": {},
   "source": [
    "< [Table of Contents](#top) | [References](#references) >\n",
    "<a id=\"b\"></a>\n",
    "***\n",
    "###### Rules of Engagement\n",
    "***"
   ]
  },
  {
   "cell_type": "markdown",
   "id": "0da36cf0",
   "metadata": {},
   "source": [
    "Penetration tests can be very invasive and it’s important that everybody understands exactly what the rules are for these particular tests - these rules of engagement defined the purpose of the test, and what the scope will be for the people who are performing this test on the network - this means that everybody will be aware of what systems will be considered, and perhaps the time of day that will be used to perform these tests.\n",
    "\n",
    "Most organizations will define a type of test, so this may be a test of a third party coming in from the outside, or it might be a test that you’re performing internally to your network and then you also have to make sure that everybody understands this is something that might be occurring during the normal working hours, or it might be something done after everyone’s gone home.\n",
    "\n",
    "Also in the rules of engagement will be a list of IP addresses of devices that are in scope for the penetration test, and the devices that should not be used or considered as part of the test - also want to be sure that you have the emergency contacts listed in the rules of engagement because occasionally things will happen and you’ll need to make sure that everyone is aware of the situation.\n",
    "\n",
    "There’s also probably going to be some type of sensitive information discovered, especially if you’re performing vulnerability exploits against some of these systems, you could very easily gain access to databases and documents, that normally you would not have access to."
   ]
  },
  {
   "cell_type": "markdown",
   "id": "b4da2efe",
   "metadata": {},
   "source": [
    "< [Table of Contents](#top) | [References](#references) >\n",
    "<a id=\"c\"></a>\n",
    "***\n",
    "###### Working Knowledge\n",
    "***"
   ]
  },
  {
   "cell_type": "markdown",
   "id": "85621817",
   "metadata": {},
   "source": [
    "Depending on the type of penetration tests you want to do, will depend on what information you make available to the person performing that test, for example, there might be an unknown environment, where you tell the penetration tester nothing about the systems - they have to go into the test completely blind and build out the database of everything they find as they go.\n",
    "\n",
    "There might also be penetration test where the person performing the test knows everything about the environment. That’s certainly very common if you’re performing your own test internally and it could be a mix of known and unknown. You may be contracting with a third party and you may provide them with information about some key systems, that they can then perform the penetration tests based on the information they have at hand."
   ]
  },
  {
   "cell_type": "markdown",
   "id": "7b10c3a2",
   "metadata": {},
   "source": [
    "< [Table of Contents](#top) | [References](#references) >\n",
    "<a id=\"d\"></a>\n",
    "***\n",
    "###### Exploiting Vulnerabilities\n",
    "***"
   ]
  },
  {
   "cell_type": "markdown",
   "id": "38513d17",
   "metadata": {},
   "source": [
    "Now that everybody understands the rules of engagement, and understands what systems they’ll be attacking, we can perform the actual penetration test. \n",
    "\n",
    "It’s important that the person performing these tests have permission to exploit the vulnerabilities that are on that system - actively trying to break into these systems and gain access to that data.\n",
    "\n",
    "During the process of doing that, there’s certainly potential for creating a denial of service, or crashing the system that this particular data might be on, so keep in mind, that if you are performing one of these tests, and something does fail there needs to be a process in place to get that system back up and running.\n",
    "\n",
    "There’s also never one single way to be able to gain access to these systems, and a good penetration test will try many different techniques to gain access - might try performing password brute-force, based on what the known passwords or popular passwords might be - there might be a little social engineering to try to get a password out of someone else - could try database injections, buffer overflows, in path attacks - there could be many different scenarios and a good penetration tester is going to find the best way to gain access to those systems.\n",
    "\n",
    "If the person performing the penetration test is able to get through your security, and be able to take advantage of these exploits, then conceivably, anyone would be able to do that - that’s why it’s so important to perform these penetration tests so that you can identify these holes, and fill the holes before the attackers do."
   ]
  },
  {
   "cell_type": "markdown",
   "id": "1ce9ff85",
   "metadata": {},
   "source": [
    "< [Table of Contents](#top) | [References](#references) >\n",
    "<a id=\"e\"></a>\n",
    "***\n",
    "###### Process - Lateral Movement\n",
    "***"
   ]
  },
  {
   "cell_type": "markdown",
   "id": "259832c6",
   "metadata": {},
   "source": [
    "Getting access to a system during a penetration test is really just the first part - need to get into a system and gain that access, so from there we can start moving to other devices on the inside of the network. This is called lateral movement, as we move from device to device on the inside of a network. \n",
    "\n",
    "It’s very common to have very strong security on the perimeter of the network, and security that is less involved on the inside - that makes some of this lateral movement a little bit easier than perhaps that initial exploit into the system."
   ]
  },
  {
   "cell_type": "markdown",
   "id": "d87809fd",
   "metadata": {},
   "source": [
    "< [Table of Contents](#top) | [References](#references) >\n",
    "<a id=\"f\"></a>\n",
    "***\n",
    "###### Persistence\n",
    "***"
   ]
  },
  {
   "cell_type": "markdown",
   "id": "ec89d64c",
   "metadata": {},
   "source": [
    "Once you’ve worked so hard to gain access to these systems, you want to be sure that you’re able to return but you don’t want someone to close these vulnerabilities and leave you without a way back.\n",
    "\n",
    "So once you gain access to these systems, you need to create persistence - create a back door - reconfigure an existing account so that you can gain access to the system through those accounts, or change, or configure default passwords for a particular service, that will allow you into that system later on, even if the exploit happens to be fixed."
   ]
  },
  {
   "cell_type": "markdown",
   "id": "1256d7bf",
   "metadata": {},
   "source": [
    "< [Table of Contents](#top) | [References](#references) >\n",
    "<a id=\"g\"></a>\n",
    "***\n",
    "###### Privot\n",
    "***"
   ]
  },
  {
   "cell_type": "markdown",
   "id": "818faafa",
   "metadata": {},
   "source": [
    "Many pen testers will take advantage of a pivot point - they’ll gain access to one system, and that will be the jumping-off point to get to any other system that’s on the inside of the network - they could use this as a proxy, they could use it as a relay, but it will be the central point that they can start their efforts on the inside of the network and from there they’re able to gain access to other trusted systems on the inside."
   ]
  },
  {
   "cell_type": "markdown",
   "id": "47707114",
   "metadata": {},
   "source": [
    "< [Table of Contents](#top) | [References](#references) >\n",
    "<a id=\"h\"></a>\n",
    "***\n",
    "###### Cleanup\n",
    "***"
   ]
  },
  {
   "cell_type": "markdown",
   "id": "405ba2a2",
   "metadata": {},
   "source": [
    "The process of performing the penetration test can sometimes modify systems and change some of the files on these devices. After the test is over, we need to make sure that all of these systems are reverted back to the way they were prior to the test taking place, so we want to make sure that any network reconfigurations are put back to their original form - if there were files or executables added to a system, to assist with the penetration test, we need to make sure those files are removed.\n",
    "\n",
    "Also want to make sure that any back doors or pivot points are removed from the network, and if there were accounts that were created during the test to assist with the pen test, we need to make sure those accounts are removed as well."
   ]
  },
  {
   "cell_type": "markdown",
   "id": "9adeceaf",
   "metadata": {},
   "source": [
    "< [Table of Contents](#top) | [References](#references) >\n",
    "<a id=\"i\"></a>\n",
    "***\n",
    "###### Bug Bounty\n",
    "***"
   ]
  },
  {
   "cell_type": "markdown",
   "id": "7cc09e7e",
   "metadata": {},
   "source": [
    "In some cases, people are able to make a living performing penetration tests on devices and applications, in the search for a bug bounty - this is a reward that is provided by the owner of these systems, to people that identify vulnerabilities, or exploits that can be taken advantage of - these are usually exploits that are identified by researchers - the more exploits they identify, the more bug bounties they can submit, and ultimately, the more money they can make."
   ]
  },
  {
   "cell_type": "markdown",
   "id": "2cc20932",
   "metadata": {},
   "source": [
    "***\n",
    "## END"
   ]
  },
  {
   "cell_type": "markdown",
   "id": "e0e42d51",
   "metadata": {},
   "source": [
    "< [Table of Contents](#top) >\n",
    "<a id=\"references\"></a>\n",
    "***\n",
    "## References\n",
    "***"
   ]
  },
  {
   "cell_type": "markdown",
   "id": "f8aaecbc",
   "metadata": {},
   "source": [
    "J. \"Professor\" Messer, \"CompTIA Security+ (SY0-601) Course Notes,\" [professormesser.com](https://web.archive.org/web/20220521181010/https://www.professormesser.com/security-plus/sy0-601/sy0-601-video/sy0-601-comptia-security-plus-course/), September 2021."
   ]
  },
  {
   "cell_type": "markdown",
   "id": "b33c372a",
   "metadata": {},
   "source": [
    "***\n",
    "## END"
   ]
  },
  {
   "cell_type": "markdown",
   "id": "e5961b4d",
   "metadata": {},
   "source": [
    "< [Table of Contents](#top) | [References](#references) >\n",
    "<a id=\"appendix\"></a>\n",
    "***\n",
    "## Appendix\n",
    "***"
   ]
  },
  {
   "cell_type": "markdown",
   "id": "00d82a82",
   "metadata": {},
   "source": [
    "***\n",
    "## END"
   ]
  },
  {
   "cell_type": "code",
   "execution_count": 1,
   "id": "706756a2",
   "metadata": {},
   "outputs": [
    {
     "data": {
      "text/html": [
       "<style>.container { width:100% !important; }</style>"
      ],
      "text/plain": [
       "<IPython.core.display.HTML object>"
      ]
     },
     "metadata": {},
     "output_type": "display_data"
    }
   ],
   "source": [
    "from IPython.core.display import display,HTML\n",
    "display(HTML(\"<style>.container { width:100% !important; }</style>\"))"
   ]
  },
  {
   "cell_type": "markdown",
   "id": "899c1783",
   "metadata": {},
   "source": [
    "# END JUPYTER NOTEBOOK"
   ]
  }
 ],
 "metadata": {
  "kernelspec": {
   "display_name": "Python 3",
   "language": "python",
   "name": "python3"
  },
  "language_info": {
   "codemirror_mode": {
    "name": "ipython",
    "version": 3
   },
   "file_extension": ".py",
   "mimetype": "text/x-python",
   "name": "python",
   "nbconvert_exporter": "python",
   "pygments_lexer": "ipython3",
   "version": "3.8.8"
  }
 },
 "nbformat": 4,
 "nbformat_minor": 5
}
