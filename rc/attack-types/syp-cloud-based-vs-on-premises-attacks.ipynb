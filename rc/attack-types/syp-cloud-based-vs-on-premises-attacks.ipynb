{
 "cells": [
  {
   "cell_type": "markdown",
   "id": "d4ee9e4b",
   "metadata": {},
   "source": [
    "***\n",
    "< [Home](https://github.com/SeanOhAileasa) | [README](https://github.com/SeanOhAileasa/syp-attacks-threats-and-vulnerabilities/blob/main/README.md) >\n",
    "\n",
    "## CompTIA Security+ - Course Material 2022\n",
    "###### Topic: ``Cloud-based vs. On-Premises Attacks``\n",
    "***"
   ]
  },
  {
   "cell_type": "markdown",
   "id": "b82b07fb",
   "metadata": {},
   "source": [
    "Course material for the ``CompTIA Security+`` module of the ``ICT Associate Apprenticeship (Cybersecurity)`` programme."
   ]
  },
  {
   "cell_type": "markdown",
   "id": "e7228f57",
   "metadata": {},
   "source": [
    "<a id=\"top\"></a>\n",
    "***\n",
    "## Table of Contents\n",
    "***"
   ]
  },
  {
   "cell_type": "markdown",
   "id": "c2bb5e7b",
   "metadata": {},
   "source": [
    "### [Cloud-based vs. On-Premises Attacks](#a) <br/><br/>\n",
    "\n",
    "- [On-premises Security](#c) <br/><br/>\n",
    "- [Cloud-based Security](#d) \n",
    "<hr width=50%;>"
   ]
  },
  {
   "cell_type": "markdown",
   "id": "bf2b95e2",
   "metadata": {},
   "source": [
    "***\n",
    "## END"
   ]
  },
  {
   "cell_type": "markdown",
   "id": "34aa6eb5",
   "metadata": {},
   "source": [
    "< [Table of Contents](#top) | [References](#references) >\n",
    "<a id=\"a\"></a>\n",
    "***\n",
    "### Cloud-based vs. On-Premises Attacks\n",
    "***"
   ]
  },
  {
   "cell_type": "markdown",
   "id": "95351321",
   "metadata": {},
   "source": [
    "There are two schools of thought when it comes to data security. \n",
    "\n",
    "One school says, if you have data that is on-site or on-premises that is the most secure way to store data. \n",
    "\n",
    "Another group says that having the data in the cloud is much more advantageous and much more secure for your data. "
   ]
  },
  {
   "cell_type": "markdown",
   "id": "245ac303",
   "metadata": {},
   "source": [
    "< [Table of Contents](#top) | [References](#references) >\n",
    "<a id=\"c\"></a>\n",
    "***\n",
    "###### On-premises Security\n",
    "***"
   ]
  },
  {
   "cell_type": "markdown",
   "id": "cb66cb50",
   "metadata": {},
   "source": [
    "If your data is on-premises, you have complete control. \n",
    "\n",
    "You’re in charge of the facility - in charge of your users and your support team and you’re in charge of what happens with that data.\n",
    "\n",
    "If you have your own team to manage your IT infrastructure, then you get to decide what expertise and what type of security controls are in place. You can hire exactly the right people to make sure that all of your data is secure, but, of course, if you’re hiring these people and having them on staff, there are additional costs associated with that, especially if you want to get people who are knowledgeable in how to protect data. \n",
    "\n",
    "With all of the data in your local premises, you have a team that can handle all of the uptime and all of the availability - don’t have to call out to a third party to provide any type of maintenance.\n",
    "\n",
    "Since this does rely on your services and your infrastructure, making security changes can also take time. It may take a reconfiguration - may have to purchase new software or new hardware and have all of that already on-site in your premises. \n",
    "\n",
    "If this was a cloud-based service, there may be options for simply clicking a few buttons and adding additional security to your system. "
   ]
  },
  {
   "cell_type": "markdown",
   "id": "7b10c3a2",
   "metadata": {},
   "source": [
    "< [Table of Contents](#top) | [References](#references) >\n",
    "<a id=\"d\"></a>\n",
    "***\n",
    "###### Cloud-based Security\n",
    "***"
   ]
  },
  {
   "cell_type": "markdown",
   "id": "7d21cf44",
   "metadata": {},
   "source": [
    "With cloud security, everything is centralized, and therefore your costs tend to be lower.\n",
    "\n",
    "You don’t have to worry about having your own data center or purchasing any hardware, and you have a third party that handles all of the IT services for you.\n",
    "\n",
    "If all of your data is on-site, you obviously have your own data center and you have to incur all of those data center costs, but you know where all of your data is, and you’re the one who gets to control what happens with that data. \n",
    "\n",
    "Of course, the attackers don’t care where your data happens to live– you just have to be sure that it’s secure no matter where it’s stored.\n",
    "\n",
    "In a cloud-based system, you get to control how much security you have on that data - there’s usually no physical access to the servers and services that are in these cloud-based systems, although you do have to be concerned that there’s a third party that would have access to your data and your systems.\n",
    "\n",
    "One advantage in the cloud is that most cloud providers are providing very large-scale security - they’ve seen a lot of different security technologies and understand how to implement it to make sure that your data stays secure. One challenge with this is you want to be sure that your users are following best practices for this security in the cloud - there’s a different process for accessing this data, and you want to be sure that your users are following the correct processes and procedures to keep that flow of traffic as secure as possible.\n",
    "\n",
    "The data in the cloud also tends to be more available. Since this is a larger infrastructure, and much more redundancy is built in, you can usually maintain a higher degree of uptime. \n",
    "\n",
    "Security from a cloud-based provider may also give you some additional options - need to install a new third-party firewall, it may just be a click away to bring that firewall online and have it protect your data. \n",
    "\n",
    "This may not be as customizable as it might be inside of your own data center, but it might provide you with some additional options that you wouldn’t have if your data was on-premises."
   ]
  },
  {
   "cell_type": "markdown",
   "id": "2cc20932",
   "metadata": {},
   "source": [
    "***\n",
    "## END"
   ]
  },
  {
   "cell_type": "markdown",
   "id": "e0e42d51",
   "metadata": {},
   "source": [
    "< [Table of Contents](#top) >\n",
    "<a id=\"references\"></a>\n",
    "***\n",
    "## References\n",
    "***"
   ]
  },
  {
   "cell_type": "markdown",
   "id": "f8aaecbc",
   "metadata": {},
   "source": [
    "J. \"Professor\" Messer, \"CompTIA Security+ (SY0-601) Course Notes,\" [professormesser.com](https://web.archive.org/web/20220521181010/https://www.professormesser.com/security-plus/sy0-601/sy0-601-video/sy0-601-comptia-security-plus-course/), September 2021."
   ]
  },
  {
   "cell_type": "markdown",
   "id": "b33c372a",
   "metadata": {},
   "source": [
    "***\n",
    "## END"
   ]
  },
  {
   "cell_type": "markdown",
   "id": "e5961b4d",
   "metadata": {},
   "source": [
    "< [Table of Contents](#top) | [References](#references) >\n",
    "<a id=\"appendix\"></a>\n",
    "***\n",
    "## Appendix\n",
    "***"
   ]
  },
  {
   "cell_type": "markdown",
   "id": "00d82a82",
   "metadata": {},
   "source": [
    "***\n",
    "## END"
   ]
  },
  {
   "cell_type": "code",
   "execution_count": 1,
   "id": "706756a2",
   "metadata": {},
   "outputs": [
    {
     "data": {
      "text/html": [
       "<style>.container { width:100% !important; }</style>"
      ],
      "text/plain": [
       "<IPython.core.display.HTML object>"
      ]
     },
     "metadata": {},
     "output_type": "display_data"
    }
   ],
   "source": [
    "from IPython.core.display import display,HTML\n",
    "display(HTML(\"<style>.container { width:100% !important; }</style>\"))"
   ]
  },
  {
   "cell_type": "markdown",
   "id": "899c1783",
   "metadata": {},
   "source": [
    "# END JUPYTER NOTEBOOK"
   ]
  }
 ],
 "metadata": {
  "kernelspec": {
   "display_name": "Python 3",
   "language": "python",
   "name": "python3"
  },
  "language_info": {
   "codemirror_mode": {
    "name": "ipython",
    "version": 3
   },
   "file_extension": ".py",
   "mimetype": "text/x-python",
   "name": "python",
   "nbconvert_exporter": "python",
   "pygments_lexer": "ipython3",
   "version": "3.8.8"
  }
 },
 "nbformat": 4,
 "nbformat_minor": 5
}
