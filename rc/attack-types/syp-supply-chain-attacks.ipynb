{
 "cells": [
  {
   "cell_type": "markdown",
   "id": "d4ee9e4b",
   "metadata": {},
   "source": [
    "***\n",
    "< [Home](https://github.com/SeanOhAileasa) | [README](https://github.com/SeanOhAileasa/syp-attacks-threats-and-vulnerabilities/blob/main/README.md) >\n",
    "\n",
    "## CompTIA Security+ - Course Material 2022\n",
    "###### Topic: ``Supply Chain Attacks``\n",
    "***"
   ]
  },
  {
   "cell_type": "markdown",
   "id": "b82b07fb",
   "metadata": {},
   "source": [
    "Course material for the ``CompTIA Security+`` module of the ``ICT Associate Apprenticeship (Cybersecurity)`` programme."
   ]
  },
  {
   "cell_type": "markdown",
   "id": "e7228f57",
   "metadata": {},
   "source": [
    "<a id=\"top\"></a>\n",
    "***\n",
    "## Table of Contents\n",
    "***"
   ]
  },
  {
   "cell_type": "markdown",
   "id": "c2bb5e7b",
   "metadata": {},
   "source": [
    "### [Supply Chain Attacks](#a) <br/><br/>\n",
    "\n",
    "- [November 2013 - Target Corp. Breach](#b) <br/><br/>\n",
    "- [Supply Chain Security](#c) \n",
    "<hr width=50%;>"
   ]
  },
  {
   "cell_type": "markdown",
   "id": "bf2b95e2",
   "metadata": {},
   "source": [
    "***\n",
    "## END"
   ]
  },
  {
   "cell_type": "markdown",
   "id": "34aa6eb5",
   "metadata": {},
   "source": [
    "< [Table of Contents](#top) | [References](#references) >\n",
    "<a id=\"a\"></a>\n",
    "***\n",
    "### Supply Chain Attacks\n",
    "***"
   ]
  },
  {
   "cell_type": "markdown",
   "id": "3d9248b1",
   "metadata": {},
   "source": [
    "The supply chain is the chain of manufacturing that gets a product from the very beginning to the very end of its process - this includes the raw materials, suppliers, manufacturers, distributors, customers, and consumers. With all of these different points along the chain, there’s a lot of opportunity for someone to be able to attack any one of these and affect anybody else who might be downstream in that chain.\n",
    "\n",
    "One of the reasons this works so well is that we tend to trust what we receive from our suppliers, not realizing, of course, that somewhere up the chain there was an attack that now has shown itself in the equipment, the software, or the technology that we’re now putting onto our network. \n",
    "\n",
    "With so many other steps before that technology arrives on our doorstep, there are plenty of places for an attacker to be able to infect that supply chain."
   ]
  },
  {
   "cell_type": "markdown",
   "id": "84b00380",
   "metadata": {},
   "source": [
    "< [Table of Contents](#top) | [References](#references) >\n",
    "<a id=\"b\"></a>\n",
    "***\n",
    "###### November 2013 - Target Corp. Breach\n",
    "***"
   ]
  },
  {
   "cell_type": "markdown",
   "id": "a8fbdef3",
   "metadata": {},
   "source": [
    "A notable supply chain breach occurred in November of 2013 with the Target Corporation where 40 million credit card numbers were stolen - this attack did not start at Target, it instead started in Pennsylvania for an HVAC company - Heating, Ventilation, and Air Conditioning company.\n",
    "\n",
    "This is an organization that had people that took care of and maintained the HVAC systems for many of the Target locations. To be able to interact with Target, there was a VPN connection that these technicians would use to be able to send and receive information about these HVAC systems - there was an email with malware that was delivered to this firm in Pennsylvania, and that malware was able to obtain the VPN credentials so that the attackers were able to access the VPN themselves.\n",
    "\n",
    "This was the breach of the supply chain. The attackers were able to take advantage of the HVAC suppliers and gain access to the inside of the Target network. Unfortunately, the Target network did not have any additional security on the inside to prevent vendors from gaining access to other parts of the network, so once the attackers got onto the Target network, they then had access to every single register at all 1,800 Target stores - this is a good example of how a supply chain attack can occur because the attack vector isn’t one you were expecting. The folks that are on the roof taking care of the air conditioning and heating are not where you would expect a breach to come that would then attack and steal over 40 million credit cards."
   ]
  },
  {
   "cell_type": "markdown",
   "id": "b4da2efe",
   "metadata": {},
   "source": [
    "< [Table of Contents](#top) | [References](#references) >\n",
    "<a id=\"c\"></a>\n",
    "***\n",
    "###### Supply Chain Security\n",
    "***"
   ]
  },
  {
   "cell_type": "markdown",
   "id": "5da3e63c",
   "metadata": {},
   "source": [
    "Supply chain cybersecurity has become a significant concern for organizations. You have to know and trust that your server, your router, your switch, your firewall, or any of the software you’re installing is something that you can trust to put on your network. \n",
    "\n",
    "Many organizations are narrowing down the number of vendors they work with so that they can do more testing and more auditing and make sure that what they’re receiving from those suppliers is trusted. \n",
    "\n",
    "Organizations are also requiring that those suppliers have very strict controls over everything that they’re doing and that audits can occur within the suppliers network so that everybody can trust exactly what’s being delivered to the end user. \n",
    "\n",
    "If you have relationships with your suppliers, this is a good chance to team up with them and make sure that everyone is able to get a safer product all the way through the supply chain."
   ]
  },
  {
   "cell_type": "markdown",
   "id": "2cc20932",
   "metadata": {},
   "source": [
    "***\n",
    "## END"
   ]
  },
  {
   "cell_type": "markdown",
   "id": "e0e42d51",
   "metadata": {},
   "source": [
    "< [Table of Contents](#top) >\n",
    "<a id=\"references\"></a>\n",
    "***\n",
    "## References\n",
    "***"
   ]
  },
  {
   "cell_type": "markdown",
   "id": "f8aaecbc",
   "metadata": {},
   "source": [
    "J. \"Professor\" Messer, \"CompTIA Security+ (SY0-601) Course Notes,\" [professormesser.com](https://web.archive.org/web/20220521181010/https://www.professormesser.com/security-plus/sy0-601/sy0-601-video/sy0-601-comptia-security-plus-course/), September 2021."
   ]
  },
  {
   "cell_type": "markdown",
   "id": "b33c372a",
   "metadata": {},
   "source": [
    "***\n",
    "## END"
   ]
  },
  {
   "cell_type": "markdown",
   "id": "e5961b4d",
   "metadata": {},
   "source": [
    "< [Table of Contents](#top) | [References](#references) >\n",
    "<a id=\"appendix\"></a>\n",
    "***\n",
    "## Appendix\n",
    "***"
   ]
  },
  {
   "cell_type": "markdown",
   "id": "00d82a82",
   "metadata": {},
   "source": [
    "***\n",
    "## END"
   ]
  },
  {
   "cell_type": "code",
   "execution_count": 1,
   "id": "706756a2",
   "metadata": {},
   "outputs": [
    {
     "data": {
      "text/html": [
       "<style>.container { width:100% !important; }</style>"
      ],
      "text/plain": [
       "<IPython.core.display.HTML object>"
      ]
     },
     "metadata": {},
     "output_type": "display_data"
    }
   ],
   "source": [
    "from IPython.core.display import display,HTML\n",
    "display(HTML(\"<style>.container { width:100% !important; }</style>\"))"
   ]
  },
  {
   "cell_type": "markdown",
   "id": "899c1783",
   "metadata": {},
   "source": [
    "# END JUPYTER NOTEBOOK"
   ]
  }
 ],
 "metadata": {
  "kernelspec": {
   "display_name": "Python 3",
   "language": "python",
   "name": "python3"
  },
  "language_info": {
   "codemirror_mode": {
    "name": "ipython",
    "version": 3
   },
   "file_extension": ".py",
   "mimetype": "text/x-python",
   "name": "python",
   "nbconvert_exporter": "python",
   "pygments_lexer": "ipython3",
   "version": "3.8.8"
  }
 },
 "nbformat": 4,
 "nbformat_minor": 5
}
