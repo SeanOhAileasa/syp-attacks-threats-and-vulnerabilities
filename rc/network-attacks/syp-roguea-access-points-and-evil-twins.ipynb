{
 "cells": [
  {
   "cell_type": "markdown",
   "id": "d4ee9e4b",
   "metadata": {},
   "source": [
    "***\n",
    "< [Home](https://github.com/SeanOhAileasa) | [README](https://github.com/SeanOhAileasa/syp-attacks-threats-and-vulnerabilities/blob/main/README.md) >\n",
    "\n",
    "## CompTIA Security+ - Course Material 2022\n",
    "###### Topic: ``Rogue Access Points and Evil Twins``\n",
    "***"
   ]
  },
  {
   "cell_type": "markdown",
   "id": "b82b07fb",
   "metadata": {},
   "source": [
    "Course material for the ``CompTIA Security+`` module of the ``ICT Associate Apprenticeship (Cybersecurity)`` programme."
   ]
  },
  {
   "cell_type": "markdown",
   "id": "e7228f57",
   "metadata": {},
   "source": [
    "<a id=\"top\"></a>\n",
    "***\n",
    "## Table of Contents\n",
    "***"
   ]
  },
  {
   "cell_type": "markdown",
   "id": "c2bb5e7b",
   "metadata": {},
   "source": [
    "### [Rogue Access Points and Evil Twins](#a) <br/><br/>\n",
    "\n",
    "- [Rogue Access Point](#b) <br/><br/>\n",
    "    - [Network Access Control](#c) <br/><br/>\n",
    "        - [``802.1X``](#c) <br/><br/>\n",
    "- [Evil Twin](#d) \n",
    "<hr width=50%;>"
   ]
  },
  {
   "cell_type": "markdown",
   "id": "bf2b95e2",
   "metadata": {},
   "source": [
    "***\n",
    "## END"
   ]
  },
  {
   "cell_type": "markdown",
   "id": "34aa6eb5",
   "metadata": {},
   "source": [
    "< [Table of Contents](#top) | [References](#references) >\n",
    "<a id=\"a\"></a>\n",
    "***\n",
    "### Rogue Access Points and Evil Twins\n",
    "***"
   ]
  },
  {
   "cell_type": "markdown",
   "id": "84b00380",
   "metadata": {},
   "source": [
    "< [Table of Contents](#top) | [References](#references) >\n",
    "<a id=\"b\"></a>\n",
    "***\n",
    "###### Rogue Access Point\n",
    "***"
   ]
  },
  {
   "cell_type": "markdown",
   "id": "49be2eac",
   "metadata": {},
   "source": [
    "A rogue access point is an access point that has been added to your network without your authorization. \n",
    "\n",
    "This might be an end user, an employee of the company who goes out and purchases a relatively inexpensive access point, brings it back into the office, and uses that to connect their own devices - this would obviously be a security concern, but not necessarily someone looking to cause any harm.\n",
    "\n",
    "But obviously, this could be a very significant security issue if someone was to gain access to that wireless access point and then ultimately access to your corporate network.\n",
    "\n",
    "It’s becoming easier and easier to create a rogue access point on the network. It’s certainly easy to purchase an access point, bring it into the office, and plug it in wherever you happen to have an Ethernet network connection. \n",
    "\n",
    "Might also turn on wireless sharing inside of the operating system of your mobile device or your laptop or desktop - those devices can also look like an access point to other devices, and would effectively turn into a rogue access point inside of the computer that you’re already using.\n",
    "\n",
    "This is why it’s always a good idea to perform periodic reviews of your wireless environment to make sure that the only access points you happen to see on your network are the ones that you put there - there are many third-party devices that can help you understand the wireless spectrum and who may be using the frequencies in your environment and there’s third-party tools, like the Wi-Fi Pineapple, that can set themselves up as a rogue access point to see if other people on the network happen to use it."
   ]
  },
  {
   "cell_type": "markdown",
   "id": "b4da2efe",
   "metadata": {},
   "source": [
    "< [Table of Contents](#top) | [References](#references) >\n",
    "<a id=\"c\"></a>\n",
    "***\n",
    "###### Network Access Control - ``802.1X``\n",
    "***"
   ]
  },
  {
   "cell_type": "markdown",
   "id": "1aac2c90",
   "metadata": {},
   "source": [
    "This is why it’s important to use network access control mechanisms, like ``802.1X``, that requires that everyone connecting to the network provide a username, password, or some other type of authentication before they are allowed access onto the network. \n",
    "\n",
    "If somebody was to install a rogue access point and someone from the outside accessed that rogue access point, they still would not be able to gain access to your network, because they would have to authenticate with a proper username and password, as long as you were running ``802.1X``."
   ]
  },
  {
   "cell_type": "markdown",
   "id": "7b10c3a2",
   "metadata": {},
   "source": [
    "< [Table of Contents](#top) | [References](#references) >\n",
    "<a id=\"d\"></a>\n",
    "***\n",
    "###### Evil Twin\n",
    "***"
   ]
  },
  {
   "cell_type": "markdown",
   "id": "626d40d6",
   "metadata": {},
   "source": [
    "A more sinister type of rogue access point is a wireless evil twin. \n",
    "\n",
    "This is an access point that is designed to look exactly like the access points that are already on your network, but they were put there for a malicious reason. \n",
    "\n",
    "This is usually an attacker that’s trying to get your users to connect to their access point by using a similar SSID name, similar configuration settings, or putting the access point in an area where your users might happen to be.\n",
    "\n",
    "If the attacker does manage to get the wireless evil twin installed somewhere close by to your users, that evil twin could overpower the signal from the other access points and become the primary access point on the network.\n",
    "\n",
    "This is an even larger concern on networks that may already be open, such as a public Wi-Fi hotspot - those networks make it very easy for someone to maliciously install a wireless evil twin and then have other people connect to that device, thinking they’re connecting to the legitimate public Wi-Fi network.\n",
    "\n",
    "If you’re using a wireless network, and especially if you’re using a public Wi-Fi open network, you want to be sure that all of your communications sent across that network is encrypted. Make sure that you’re communicating to all websites over ``HTTPS``, or even better install a ``VPN client``, and all of your traffic, regardless of where it’s going, will always be encrypted over that wireless network."
   ]
  },
  {
   "cell_type": "markdown",
   "id": "2cc20932",
   "metadata": {},
   "source": [
    "***\n",
    "## END"
   ]
  },
  {
   "cell_type": "markdown",
   "id": "e0e42d51",
   "metadata": {},
   "source": [
    "< [Table of Contents](#top) >\n",
    "<a id=\"references\"></a>\n",
    "***\n",
    "## References\n",
    "***"
   ]
  },
  {
   "cell_type": "markdown",
   "id": "f8aaecbc",
   "metadata": {},
   "source": [
    "J. \"Professor\" Messer, \"CompTIA Security+ (SY0-601) Course Notes,\" [professormesser.com](https://web.archive.org/web/20220521181010/https://www.professormesser.com/security-plus/sy0-601/sy0-601-video/sy0-601-comptia-security-plus-course/), September 2021."
   ]
  },
  {
   "cell_type": "markdown",
   "id": "b33c372a",
   "metadata": {},
   "source": [
    "***\n",
    "## END"
   ]
  },
  {
   "cell_type": "markdown",
   "id": "e5961b4d",
   "metadata": {},
   "source": [
    "< [Table of Contents](#top) | [References](#references) >\n",
    "<a id=\"appendix\"></a>\n",
    "***\n",
    "## Appendix\n",
    "***"
   ]
  },
  {
   "cell_type": "markdown",
   "id": "00d82a82",
   "metadata": {},
   "source": [
    "***\n",
    "## END"
   ]
  },
  {
   "cell_type": "code",
   "execution_count": 1,
   "id": "706756a2",
   "metadata": {},
   "outputs": [
    {
     "data": {
      "text/html": [
       "<style>.container { width:100% !important; }</style>"
      ],
      "text/plain": [
       "<IPython.core.display.HTML object>"
      ]
     },
     "metadata": {},
     "output_type": "display_data"
    }
   ],
   "source": [
    "from IPython.core.display import display,HTML\n",
    "display(HTML(\"<style>.container { width:100% !important; }</style>\"))"
   ]
  },
  {
   "cell_type": "markdown",
   "id": "899c1783",
   "metadata": {},
   "source": [
    "# END JUPYTER NOTEBOOK"
   ]
  }
 ],
 "metadata": {
  "kernelspec": {
   "display_name": "Python 3",
   "language": "python",
   "name": "python3"
  },
  "language_info": {
   "codemirror_mode": {
    "name": "ipython",
    "version": 3
   },
   "file_extension": ".py",
   "mimetype": "text/x-python",
   "name": "python",
   "nbconvert_exporter": "python",
   "pygments_lexer": "ipython3",
   "version": "3.8.8"
  }
 },
 "nbformat": 4,
 "nbformat_minor": 5
}
