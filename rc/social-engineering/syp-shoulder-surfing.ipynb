{
 "cells": [
  {
   "cell_type": "markdown",
   "id": "d4ee9e4b",
   "metadata": {},
   "source": [
    "***\n",
    "< [Home](https://github.com/SeanOhAileasa) | [README](https://github.com/SeanOhAileasa/syp-attacks-threats-and-vulnerabilities/blob/main/README.md) >\n",
    "\n",
    "## CompTIA Security+ - Course Material 2022\n",
    "###### Topic: ``Shoulder Surfing``\n",
    "***"
   ]
  },
  {
   "cell_type": "markdown",
   "id": "b82b07fb",
   "metadata": {},
   "source": [
    "Course material for the ``CompTIA Security+`` module of the ``ICT Associate Apprenticeship (Cybersecurity)`` programme."
   ]
  },
  {
   "cell_type": "markdown",
   "id": "e7228f57",
   "metadata": {},
   "source": [
    "<a id=\"top\"></a>\n",
    "***\n",
    "## Table of Contents\n",
    "***"
   ]
  },
  {
   "cell_type": "markdown",
   "id": "c2bb5e7b",
   "metadata": {},
   "source": [
    "### [Shoulder Surfing](#a) <br/><br/>\n",
    "\n",
    "- [Protection](#b)\n",
    "<hr width=50%;>"
   ]
  },
  {
   "cell_type": "markdown",
   "id": "bf2b95e2",
   "metadata": {},
   "source": [
    "***\n",
    "## END"
   ]
  },
  {
   "cell_type": "markdown",
   "id": "34aa6eb5",
   "metadata": {},
   "source": [
    "< [Table of Contents](#top) | [References](#references) >\n",
    "<a id=\"a\"></a>\n",
    "***\n",
    "### Shoulder Surfing\n",
    "***"
   ]
  },
  {
   "cell_type": "markdown",
   "id": "05049a3c",
   "metadata": {},
   "source": [
    "The things that you have on your computer might be important spreadsheets, documents, presentations, and things that you do in your day-to-day job and you may not even realize just how important that information might be for someone else to be able to gain access to. \n",
    "\n",
    "Well, one of the ways that they are able to gather this details is by simply looking over your shoulder - this is called shoulder surfing and it’s a very common way for people to obtain password information and details about documents that you might be viewing on your computer.\n",
    "\n",
    "Travelling via airports and on airplanes its possible to find people opening their laptop in the row of you and working on what can be very sensitive and private information and it was very easy to see what was going on if sitting directly behind them and able to see everything that was on their computer screen.\n",
    "\n",
    "In some areas, especially large cities, you could even do this from the next building over if you have binoculars or a telescope and you can see everything that happens to be on someone’s screen even though you’re not in the same room or even the same building as that person."
   ]
  },
  {
   "cell_type": "markdown",
   "id": "d8614624",
   "metadata": {},
   "source": [
    "< [Table of Contents](#top) | [References](#references) >\n",
    "<a id=\"b\"></a>\n",
    "***\n",
    "###### Protection\n",
    "***"
   ]
  },
  {
   "cell_type": "markdown",
   "id": "e510272e",
   "metadata": {},
   "source": [
    "If you are working on your computer, it’s important to understand who might be able to see the information that’s on your screen, so be aware of your surroundings wherever you happen to be. \n",
    "\n",
    "Another remarkable security tool is a privacy filter - this is something that completely blacks the screen unless you’re the person who’s sitting directly in front of the computer.\n",
    "\n",
    "Been on flights with someone sitting immediately next to me and they’re working on their computer but to me, it’s a completely black screen because they have a privacy filter that they are using on their laptop. It’s obvious that someone in their IT department already thought ahead of the situations where this person might have someone else nearby who would want to shoulder surf on their computer.\n",
    "\n",
    "If you’re in an office, it might be useful to keep your monitor turned away from a window or away from a hallway and of course, if you’re on a flight, make sure that you’re using all of these methods to be able to prevent someone from being able to see the information that’s on your screen."
   ]
  },
  {
   "cell_type": "markdown",
   "id": "2cc20932",
   "metadata": {},
   "source": [
    "***\n",
    "## END"
   ]
  },
  {
   "cell_type": "markdown",
   "id": "e0e42d51",
   "metadata": {},
   "source": [
    "< [Table of Contents](#top) >\n",
    "<a id=\"references\"></a>\n",
    "***\n",
    "## References\n",
    "***"
   ]
  },
  {
   "cell_type": "markdown",
   "id": "f8aaecbc",
   "metadata": {},
   "source": [
    "J. \"Professor\" Messer, \"CompTIA Security+ (SY0-601) Course Notes,\" [professormesser.com](https://web.archive.org/web/20220521181010/https://www.professormesser.com/security-plus/sy0-601/sy0-601-video/sy0-601-comptia-security-plus-course/), September 2021."
   ]
  },
  {
   "cell_type": "markdown",
   "id": "b33c372a",
   "metadata": {},
   "source": [
    "***\n",
    "## END"
   ]
  },
  {
   "cell_type": "markdown",
   "id": "e5961b4d",
   "metadata": {},
   "source": [
    "< [Table of Contents](#top) | [References](#references) >\n",
    "<a id=\"appendix\"></a>\n",
    "***\n",
    "## Appendix\n",
    "***"
   ]
  },
  {
   "cell_type": "markdown",
   "id": "00d82a82",
   "metadata": {},
   "source": [
    "***\n",
    "## END"
   ]
  },
  {
   "cell_type": "code",
   "execution_count": 1,
   "id": "706756a2",
   "metadata": {},
   "outputs": [
    {
     "data": {
      "text/html": [
       "<style>.container { width:100% !important; }</style>"
      ],
      "text/plain": [
       "<IPython.core.display.HTML object>"
      ]
     },
     "metadata": {},
     "output_type": "display_data"
    }
   ],
   "source": [
    "from IPython.core.display import display,HTML\n",
    "display(HTML(\"<style>.container { width:100% !important; }</style>\"))"
   ]
  },
  {
   "cell_type": "markdown",
   "id": "899c1783",
   "metadata": {},
   "source": [
    "# END JUPYTER NOTEBOOK"
   ]
  }
 ],
 "metadata": {
  "kernelspec": {
   "display_name": "Python 3",
   "language": "python",
   "name": "python3"
  },
  "language_info": {
   "codemirror_mode": {
    "name": "ipython",
    "version": 3
   },
   "file_extension": ".py",
   "mimetype": "text/x-python",
   "name": "python",
   "nbconvert_exporter": "python",
   "pygments_lexer": "ipython3",
   "version": "3.8.8"
  }
 },
 "nbformat": 4,
 "nbformat_minor": 5
}
