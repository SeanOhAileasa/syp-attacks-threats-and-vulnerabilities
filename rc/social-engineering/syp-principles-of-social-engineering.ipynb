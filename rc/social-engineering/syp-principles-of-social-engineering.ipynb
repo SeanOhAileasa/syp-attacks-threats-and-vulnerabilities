{
 "cells": [
  {
   "cell_type": "markdown",
   "id": "d4ee9e4b",
   "metadata": {},
   "source": [
    "***\n",
    "< [Home](https://github.com/SeanOhAileasa) | [README](https://github.com/SeanOhAileasa/syp-attacks-threats-and-vulnerabilities/blob/main/README.md) >\n",
    "\n",
    "## CompTIA Security+ - Course Material 2022\n",
    "###### Topic: ``Principles of Social Engineering``\n",
    "***"
   ]
  },
  {
   "cell_type": "markdown",
   "id": "b82b07fb",
   "metadata": {},
   "source": [
    "Course material for the ``CompTIA Security+`` module of the ``ICT Associate Apprenticeship (Cybersecurity)`` programme."
   ]
  },
  {
   "cell_type": "markdown",
   "id": "e7228f57",
   "metadata": {},
   "source": [
    "<a id=\"top\"></a>\n",
    "***\n",
    "## Table of Contents\n",
    "***"
   ]
  },
  {
   "cell_type": "markdown",
   "id": "c2bb5e7b",
   "metadata": {},
   "source": [
    "### [Principles of Social Engineering](#a) <br/><br/>\n",
    "\n",
    "- [Principles](#b) <br/><br/>\n",
    "    - [Authority](#b) <br/><br/>\n",
    "    - [Intimidation](#c) <br/><br/>\n",
    "    - [Consensus](#d) <br/><br/>\n",
    "        - [Social Proof](#d) <br/><br/>\n",
    "    - [Scarcity](#e) <br/><br/>\n",
    "        - [Urgency](#e) <br/><br/>\n",
    "    - [Familiarity](#f) <br/><br/>\n",
    "        - [Liking](#f) <br/><br/>\n",
    "    - [Trust](#g) <br/><br/>\n",
    "- [Twitter - Naoki Hiroshima](#h) \n",
    "<hr width=50%;>"
   ]
  },
  {
   "cell_type": "markdown",
   "id": "bf2b95e2",
   "metadata": {},
   "source": [
    "***\n",
    "## END"
   ]
  },
  {
   "cell_type": "markdown",
   "id": "34aa6eb5",
   "metadata": {},
   "source": [
    "< [Table of Contents](#top) | [References](#references) >\n",
    "<a id=\"a\"></a>\n",
    "***\n",
    "### Principles of Social Engineering\n",
    "***"
   ]
  },
  {
   "cell_type": "markdown",
   "id": "6cd6ee98",
   "metadata": {},
   "source": [
    "Social engineering is a constantly changing attack, and that’s because the world around us is constantly changing. \n",
    "\n",
    "The attackers are constantly changing their strategies - you never know exactly what direction they’re going to come from next.\n",
    "\n",
    "These days, we see these attacks occurring from more than one person or organization - they’ll use multiple people to ultimately perform the social engineering attack. \n",
    "\n",
    "Also seeing social engineering attacks that are more automated and using a lot more open source intelligence - they’re able to find out more information about you, or the organization you work for - they might call in as an aggressive customer or they might find out the name of someone you know, and send you an email with a funeral notification, even though this person you know hasn’t passed away but they know that they can take advantage of your emotion and have you click on the things that are inside of that email as this social engineering attack."
   ]
  },
  {
   "cell_type": "markdown",
   "id": "48a8f324",
   "metadata": {},
   "source": [
    "< [Table of Contents](#top) | [References](#references) >\n",
    "<a id=\"b\"></a>\n",
    "***\n",
    "###### Authority\n",
    "***"
   ]
  },
  {
   "cell_type": "markdown",
   "id": "78e594bd",
   "metadata": {},
   "source": [
    "Social engineering attackers use many different principles one of the principles - they use is authority - they’ll call in and say that they are calling from the CEO’s office, or they’re calling from the help desk, so they have a bit of authority when they are talking to you."
   ]
  },
  {
   "cell_type": "markdown",
   "id": "1a70f21d",
   "metadata": {},
   "source": [
    "< [Table of Contents](#top) | [References](#references) >\n",
    "<a id=\"c\"></a>\n",
    "***\n",
    "###### Intimidation\n",
    "***"
   ]
  },
  {
   "cell_type": "markdown",
   "id": "8f8d6c11",
   "metadata": {},
   "source": [
    "Another technique they use is intimidation - they want you to perform a function - they want you to give them information, and they are going to intimidate you to be able to do that - they might say that the payroll checks won’t go out because you’re holding up the process - you have to provide them with this information so that everybody in the organization will be properly paid."
   ]
  },
  {
   "cell_type": "markdown",
   "id": "f814427d",
   "metadata": {},
   "source": [
    "< [Table of Contents](#top) | [References](#references) >\n",
    "<a id=\"d\"></a>\n",
    "***\n",
    "###### Consensus | Social Proof\n",
    "***"
   ]
  },
  {
   "cell_type": "markdown",
   "id": "3ff4e582",
   "metadata": {},
   "source": [
    "They can also take advantage of social proof, or consensus in the organization - they may say that someone in your department, like Jill, did this for them last week, so it would be OK if you did it for them this week."
   ]
  },
  {
   "cell_type": "markdown",
   "id": "3db410e8",
   "metadata": {},
   "source": [
    "< [Table of Contents](#top) | [References](#references) >\n",
    "<a id=\"e\"></a>\n",
    "***\n",
    "###### Scarcity | Urgency\n",
    "***"
   ]
  },
  {
   "cell_type": "markdown",
   "id": "5a0315ca",
   "metadata": {},
   "source": [
    "There might also be an element of scarcity, which means there is a clock ticking and we have to get this done in a certain amount of time - this goes hand in hand with the characteristic of urgency, where they want to make it seem like this is something that needs to happen very quickly, whether this is something that will go away, in the case of scarcity, or just something that needs to be done immediately with urgency, both of these try to make us react without thinking about what we’re doing."
   ]
  },
  {
   "cell_type": "markdown",
   "id": "327b475b",
   "metadata": {},
   "source": [
    "< [Table of Contents](#top) | [References](#references) >\n",
    "<a id=\"f\"></a>\n",
    "***\n",
    "###### Familiarity | Liking\n",
    "***"
   ]
  },
  {
   "cell_type": "markdown",
   "id": "83cbdd77",
   "metadata": {},
   "source": [
    "There might also be a method of familiarity, or liking - they want to be able to be your buddy and they’ll talk about people that both of you might happen to know - if this attacker has gone through your Facebook friends list, they may be able to name drop and say that you both know the same people, so it’s OK to provide this information or to perform this function."
   ]
  },
  {
   "cell_type": "markdown",
   "id": "8f4bcd98",
   "metadata": {},
   "source": [
    "< [Table of Contents](#top) | [References](#references) >\n",
    "<a id=\"g\"></a>\n",
    "***\n",
    "###### Trust\n",
    "***"
   ]
  },
  {
   "cell_type": "markdown",
   "id": "6ba089e6",
   "metadata": {},
   "source": [
    "And another important principle of social engineering is trust. The attacker want you to gain some level of trust with them, so they’ll say that they’re from your IT department, they’re helping everyone with this particular problem, and all you have to do is click these things on the screen and everything will be taking care of."
   ]
  },
  {
   "cell_type": "markdown",
   "id": "e0e208a8",
   "metadata": {},
   "source": [
    "< [Table of Contents](#top) | [References](#references) >\n",
    "<a id=\"h\"></a>\n",
    "***\n",
    "###### Twitter - Naoki Hiroshima\n",
    "***"
   ]
  },
  {
   "cell_type": "markdown",
   "id": "a073e546",
   "metadata": {},
   "source": [
    "A good example of these social engineering techniques being used is the case of Naoki Hiroshima. \n",
    "\n",
    "This is the case where a one letter Twitter username was stolen by using social engineering techniques. Can read about this in the story by visiting [ [@N](https://medium.com/@N/how-i-lost-my-50-000-twitter-username-24eb09e026dd) ].\n",
    "\n",
    "In this attack, the attacker called PayPal and used social engineering to obtain the last four digits of the Naoki’s credit card number. \n",
    "\n",
    "They then called the hosting provider, GoDaddy, with this information of the last four digits and used that to help prove to the person on the phone that they were the proper owner of these accounts.\n",
    "\n",
    "The attacker was so good at social engineering that even though they didn’t have the entire credit card number, they only had the last four digits, they were able to work with the GoDaddy representative to guess at the first two digits of the card until they were able to get that right - at that point, the account was turned over to the attacker, and the attacker had full control of their internet service provider accounts.\n",
    "\n",
    "Now the attacker is in control of these domain names, but the attacker ultimately wanted that one letter Twitter username , so they extorted and said, we’ll give you all of these domain names back if you turn over the access to that one letter Twitter username, and ultimately, Naoki agreed that that’s what should happen.\n",
    "\n",
    "After the domain names were back in control, a case was opened with Twitter. \n",
    "\n",
    "They looked over the situation for about a month, and then decided that the username should be back in control of its original owner.\n",
    "\n",
    "There were many different techniques used by the attacker to be able to gain access to this particular account - wasn’t just one single thing and so we always have to keep in mind that the attackers are going to use many of these techniques to be able to get what they want by using this social engineering attack."
   ]
  },
  {
   "cell_type": "markdown",
   "id": "2cc20932",
   "metadata": {},
   "source": [
    "***\n",
    "## END"
   ]
  },
  {
   "cell_type": "markdown",
   "id": "e0e42d51",
   "metadata": {},
   "source": [
    "< [Table of Contents](#top) >\n",
    "<a id=\"references\"></a>\n",
    "***\n",
    "## References\n",
    "***"
   ]
  },
  {
   "cell_type": "markdown",
   "id": "f8aaecbc",
   "metadata": {},
   "source": [
    "J. \"Professor\" Messer, \"CompTIA Security+ (SY0-601) Course Notes,\" [professormesser.com](https://web.archive.org/web/20220521181010/https://www.professormesser.com/security-plus/sy0-601/sy0-601-video/sy0-601-comptia-security-plus-course/), September 2021."
   ]
  },
  {
   "cell_type": "markdown",
   "id": "b33c372a",
   "metadata": {},
   "source": [
    "***\n",
    "## END"
   ]
  },
  {
   "cell_type": "markdown",
   "id": "e5961b4d",
   "metadata": {},
   "source": [
    "< [Table of Contents](#top) | [References](#references) >\n",
    "<a id=\"appendix\"></a>\n",
    "***\n",
    "## Appendix\n",
    "***"
   ]
  },
  {
   "cell_type": "markdown",
   "id": "00d82a82",
   "metadata": {},
   "source": [
    "***\n",
    "## END"
   ]
  },
  {
   "cell_type": "code",
   "execution_count": 1,
   "id": "706756a2",
   "metadata": {},
   "outputs": [
    {
     "data": {
      "text/html": [
       "<style>.container { width:100% !important; }</style>"
      ],
      "text/plain": [
       "<IPython.core.display.HTML object>"
      ]
     },
     "metadata": {},
     "output_type": "display_data"
    }
   ],
   "source": [
    "from IPython.core.display import display,HTML\n",
    "display(HTML(\"<style>.container { width:100% !important; }</style>\"))"
   ]
  },
  {
   "cell_type": "markdown",
   "id": "899c1783",
   "metadata": {},
   "source": [
    "# END JUPYTER NOTEBOOK"
   ]
  }
 ],
 "metadata": {
  "kernelspec": {
   "display_name": "Python 3",
   "language": "python",
   "name": "python3"
  },
  "language_info": {
   "codemirror_mode": {
    "name": "ipython",
    "version": 3
   },
   "file_extension": ".py",
   "mimetype": "text/x-python",
   "name": "python",
   "nbconvert_exporter": "python",
   "pygments_lexer": "ipython3",
   "version": "3.8.8"
  }
 },
 "nbformat": 4,
 "nbformat_minor": 5
}
